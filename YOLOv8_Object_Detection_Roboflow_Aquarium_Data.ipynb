{
 "cells": [
  {
   "cell_type": "markdown",
   "metadata": {
    "id": "jy2kdA9zRfWq"
   },
   "source": [
    "### Aquarium Dataset 다운로드\n",
    "####  Dataset : https://public.roboflow.com/object-detection/aquarium/2"
   ]
  },
  {
   "cell_type": "markdown",
   "metadata": {
    "id": "VWufTcd6cwcX"
   },
   "source": [
    "### custom data.yaml 파일 만들기"
   ]
  },
  {
   "cell_type": "markdown",
   "metadata": {},
   "source": [
    "```bash\n",
    "!pip install PyYAML\n",
    "```"
   ]
  },
  {
   "cell_type": "code",
   "execution_count": 1,
   "metadata": {
    "colab": {
     "base_uri": "https://localhost:8080/",
     "height": 223
    },
    "executionInfo": {
     "elapsed": 5,
     "status": "ok",
     "timestamp": 1709017373572,
     "user": {
      "displayName": "박주현",
      "userId": "12520062236185404723"
     },
     "user_tz": -540
    },
    "id": "-d8jGue1cvpG",
    "outputId": "f0c2fe72-faed-465b-bfec-b796f210a5df"
   },
   "outputs": [
    {
     "data": {
      "text/plain": [
       "{'names': ['fish',\n",
       "  'jellyfish',\n",
       "  'penguin',\n",
       "  'puffin',\n",
       "  'shark',\n",
       "  'starfish',\n",
       "  'stingray'],\n",
       " 'nc': 7,\n",
       " 'test': './test/images',\n",
       " 'train': './train/images/',\n",
       " 'val': './valid/images/'}"
      ]
     },
     "metadata": {},
     "output_type": "display_data"
    }
   ],
   "source": [
    "# yaml 파일을 학습이 가능하도록 경로 설정.\n",
    "# key-value 데이터인 dict 데이터타입으로 data['train'], data['val'], data['nc'], data['names'] 에 넣어주는데,\n",
    "# 가장 중요한 부분은 데이터 경로 설정임.\n",
    "\n",
    "import yaml\n",
    "\n",
    "data = { 'train' : './train/images/',\n",
    "         'val' : './valid/images/',\n",
    "         'test' : './test/images',\n",
    "         'names' : ['fish', 'jellyfish', 'penguin', 'puffin', 'shark', 'starfish', 'stingray'],\n",
    "         'nc' : 7 }\n",
    "\n",
    "with open('Aquarium_Data.yaml', 'w') as f:\n",
    "  yaml.dump(data, f)\n",
    "\n",
    "\n",
    "with open('Aquarium_Data.yaml', 'r') as f:\n",
    "  aquarium_yaml = yaml.safe_load(f)\n",
    "  display(aquarium_yaml)"
   ]
  },
  {
   "cell_type": "markdown",
   "metadata": {},
   "source": [
    "### YOLOv8 설치\n",
    "\n",
    "```bash\n",
    "!pip install ultralytics\n",
    "```"
   ]
  },
  {
   "cell_type": "code",
   "execution_count": 2,
   "metadata": {
    "colab": {
     "base_uri": "https://localhost:8080/"
    },
    "executionInfo": {
     "elapsed": 8236,
     "status": "ok",
     "timestamp": 1709017404276,
     "user": {
      "displayName": "박주현",
      "userId": "12520062236185404723"
     },
     "user_tz": -540
    },
    "id": "WnS0XLAcj1aO",
    "outputId": "b44059ba-2789-4749-e669-c1bd6a820288"
   },
   "outputs": [
    {
     "name": "stdout",
     "output_type": "stream",
     "text": [
      "Ultralytics YOLOv8.1.19 🚀 Python-3.12.1 torch-2.2.1 CUDA:0 (NVIDIA GeForce RTX 3060, 12288MiB)\n",
      "Setup complete ✅ (12 CPUs, 15.8 GB RAM, 187.8/464.7 GB disk)\n"
     ]
    }
   ],
   "source": [
    "import ultralytics\n",
    "\n",
    "ultralytics.checks()"
   ]
  },
  {
   "cell_type": "code",
   "execution_count": 3,
   "metadata": {
    "colab": {
     "base_uri": "https://localhost:8080/"
    },
    "executionInfo": {
     "elapsed": 2794,
     "status": "ok",
     "timestamp": 1709017412320,
     "user": {
      "displayName": "박주현",
      "userId": "12520062236185404723"
     },
     "user_tz": -540
    },
    "id": "Das7YGgqmSUL",
    "outputId": "5965ca81-5871-45c7-f087-d04573ee393f"
   },
   "outputs": [
    {
     "name": "stdout",
     "output_type": "stream",
     "text": [
      "Downloading https://github.com/ultralytics/assets/releases/download/v8.1.0/yolov8n.pt to 'yolov8n.pt'...\n"
     ]
    },
    {
     "name": "stderr",
     "output_type": "stream",
     "text": [
      "100%|██████████| 6.23M/6.23M [00:00<00:00, 55.7MB/s]\n"
     ]
    }
   ],
   "source": [
    "from ultralytics import YOLO\n",
    "\n",
    "model = YOLO('yolov8n.pt')  # load a pretrained YOLOv8n detection model"
   ]
  },
  {
   "cell_type": "code",
   "execution_count": 4,
   "metadata": {
    "colab": {
     "base_uri": "https://localhost:8080/"
    },
    "executionInfo": {
     "elapsed": 4,
     "status": "ok",
     "timestamp": 1709017412320,
     "user": {
      "displayName": "박주현",
      "userId": "12520062236185404723"
     },
     "user_tz": -540
    },
    "id": "7X_3dSOFPQi3",
    "outputId": "87fc3ff7-393d-4074-eb4d-804c7e21f4fd"
   },
   "outputs": [
    {
     "name": "stdout",
     "output_type": "stream",
     "text": [
      "<class 'dict'> 80\n",
      "{0: 'person', 1: 'bicycle', 2: 'car', 3: 'motorcycle', 4: 'airplane', 5: 'bus', 6: 'train', 7: 'truck', 8: 'boat', 9: 'traffic light', 10: 'fire hydrant', 11: 'stop sign', 12: 'parking meter', 13: 'bench', 14: 'bird', 15: 'cat', 16: 'dog', 17: 'horse', 18: 'sheep', 19: 'cow', 20: 'elephant', 21: 'bear', 22: 'zebra', 23: 'giraffe', 24: 'backpack', 25: 'umbrella', 26: 'handbag', 27: 'tie', 28: 'suitcase', 29: 'frisbee', 30: 'skis', 31: 'snowboard', 32: 'sports ball', 33: 'kite', 34: 'baseball bat', 35: 'baseball glove', 36: 'skateboard', 37: 'surfboard', 38: 'tennis racket', 39: 'bottle', 40: 'wine glass', 41: 'cup', 42: 'fork', 43: 'knife', 44: 'spoon', 45: 'bowl', 46: 'banana', 47: 'apple', 48: 'sandwich', 49: 'orange', 50: 'broccoli', 51: 'carrot', 52: 'hot dog', 53: 'pizza', 54: 'donut', 55: 'cake', 56: 'chair', 57: 'couch', 58: 'potted plant', 59: 'bed', 60: 'dining table', 61: 'toilet', 62: 'tv', 63: 'laptop', 64: 'mouse', 65: 'remote', 66: 'keyboard', 67: 'cell phone', 68: 'microwave', 69: 'oven', 70: 'toaster', 71: 'sink', 72: 'refrigerator', 73: 'book', 74: 'clock', 75: 'vase', 76: 'scissors', 77: 'teddy bear', 78: 'hair drier', 79: 'toothbrush'}\n"
     ]
    }
   ],
   "source": [
    "print(type(model.names), len(model.names))\n",
    "\n",
    "print(model.names)"
   ]
  },
  {
   "cell_type": "markdown",
   "metadata": {
    "id": "u-U7UBFWFhlc"
   },
   "source": [
    "### 학습\n",
    "\n",
    "#### AppData/Roaming/Ultralytics/settings.yaml에서 datasets_dir 내용 수정\n",
    "\n",
    "```yaml\n",
    "datasets_dir: C:\\...\\yolov8(본인이 진행하는 프로젝트 파일명)\\datasets(custom datasets파일명)\n",
    "```"
   ]
  },
  {
   "cell_type": "code",
   "execution_count": 5,
   "metadata": {
    "colab": {
     "base_uri": "https://localhost:8080/"
    },
    "id": "eeF3uPiAYyBD",
    "outputId": "6c99175c-be48-4088-861d-45c3ed7329ff"
   },
   "outputs": [
    {
     "name": "stdout",
     "output_type": "stream",
     "text": [
      "Ultralytics YOLOv8.1.19 🚀 Python-3.12.1 torch-2.2.1 CUDA:0 (NVIDIA GeForce RTX 3060, 12288MiB)\n",
      "\u001b[34m\u001b[1mengine\\trainer: \u001b[0mtask=detect, mode=train, model=yolov8n.pt, data=Aquarium_Data.yaml, epochs=10, time=None, patience=30, batch=32, imgsz=416, save=True, save_period=-1, cache=False, device=None, workers=0, project=None, name=train, exist_ok=False, pretrained=True, optimizer=auto, verbose=True, seed=0, deterministic=True, single_cls=False, rect=False, cos_lr=False, close_mosaic=10, resume=False, amp=True, fraction=1.0, profile=False, freeze=None, multi_scale=False, overlap_mask=True, mask_ratio=4, dropout=0.0, val=True, split=val, save_json=False, save_hybrid=False, conf=None, iou=0.7, max_det=300, half=False, dnn=False, plots=True, source=None, vid_stride=1, stream_buffer=False, visualize=False, augment=False, agnostic_nms=False, classes=None, retina_masks=False, embed=None, show=False, save_frames=False, save_txt=False, save_conf=False, save_crop=False, show_labels=True, show_conf=True, show_boxes=True, line_width=None, format=torchscript, keras=False, optimize=False, int8=False, dynamic=False, simplify=False, opset=None, workspace=4, nms=False, lr0=0.01, lrf=0.01, momentum=0.937, weight_decay=0.0005, warmup_epochs=3.0, warmup_momentum=0.8, warmup_bias_lr=0.1, box=7.5, cls=0.5, dfl=1.5, pose=12.0, kobj=1.0, label_smoothing=0.0, nbs=64, hsv_h=0.015, hsv_s=0.7, hsv_v=0.4, degrees=0.0, translate=0.1, scale=0.5, shear=0.0, perspective=0.0, flipud=0.0, fliplr=0.5, mosaic=1.0, mixup=0.0, copy_paste=0.0, auto_augment=randaugment, erasing=0.4, crop_fraction=1.0, cfg=None, tracker=botsort.yaml, save_dir=runs\\detect\\train\n",
      "Overriding model.yaml nc=80 with nc=7\n",
      "\n",
      "                   from  n    params  module                                       arguments                     \n",
      "  0                  -1  1       464  ultralytics.nn.modules.conv.Conv             [3, 16, 3, 2]                 \n",
      "  1                  -1  1      4672  ultralytics.nn.modules.conv.Conv             [16, 32, 3, 2]                \n",
      "  2                  -1  1      7360  ultralytics.nn.modules.block.C2f             [32, 32, 1, True]             \n",
      "  3                  -1  1     18560  ultralytics.nn.modules.conv.Conv             [32, 64, 3, 2]                \n",
      "  4                  -1  2     49664  ultralytics.nn.modules.block.C2f             [64, 64, 2, True]             \n",
      "  5                  -1  1     73984  ultralytics.nn.modules.conv.Conv             [64, 128, 3, 2]               \n",
      "  6                  -1  2    197632  ultralytics.nn.modules.block.C2f             [128, 128, 2, True]           \n",
      "  7                  -1  1    295424  ultralytics.nn.modules.conv.Conv             [128, 256, 3, 2]              \n",
      "  8                  -1  1    460288  ultralytics.nn.modules.block.C2f             [256, 256, 1, True]           \n",
      "  9                  -1  1    164608  ultralytics.nn.modules.block.SPPF            [256, 256, 5]                 \n",
      " 10                  -1  1         0  torch.nn.modules.upsampling.Upsample         [None, 2, 'nearest']          \n",
      " 11             [-1, 6]  1         0  ultralytics.nn.modules.conv.Concat           [1]                           \n",
      " 12                  -1  1    148224  ultralytics.nn.modules.block.C2f             [384, 128, 1]                 \n",
      " 13                  -1  1         0  torch.nn.modules.upsampling.Upsample         [None, 2, 'nearest']          \n",
      " 14             [-1, 4]  1         0  ultralytics.nn.modules.conv.Concat           [1]                           \n",
      " 15                  -1  1     37248  ultralytics.nn.modules.block.C2f             [192, 64, 1]                  \n",
      " 16                  -1  1     36992  ultralytics.nn.modules.conv.Conv             [64, 64, 3, 2]                \n",
      " 17            [-1, 12]  1         0  ultralytics.nn.modules.conv.Concat           [1]                           \n",
      " 18                  -1  1    123648  ultralytics.nn.modules.block.C2f             [192, 128, 1]                 \n",
      " 19                  -1  1    147712  ultralytics.nn.modules.conv.Conv             [128, 128, 3, 2]              \n",
      " 20             [-1, 9]  1         0  ultralytics.nn.modules.conv.Concat           [1]                           \n",
      " 21                  -1  1    493056  ultralytics.nn.modules.block.C2f             [384, 256, 1]                 \n",
      " 22        [15, 18, 21]  1    752677  ultralytics.nn.modules.head.Detect           [7, [64, 128, 256]]           \n",
      "Model summary: 225 layers, 3012213 parameters, 3012197 gradients, 8.2 GFLOPs\n",
      "\n",
      "Transferred 319/355 items from pretrained weights\n",
      "Freezing layer 'model.22.dfl.conv.weight'\n",
      "\u001b[34m\u001b[1mAMP: \u001b[0mrunning Automatic Mixed Precision (AMP) checks with YOLOv8n...\n",
      "\u001b[34m\u001b[1mAMP: \u001b[0mchecks passed ✅\n"
     ]
    },
    {
     "name": "stderr",
     "output_type": "stream",
     "text": [
      "\u001b[34m\u001b[1mtrain: \u001b[0mScanning C:\\BigJoo\\study\\yolov8\\datasets\\train\\labels.cache... 448 images, 1 backgrounds, 0 corrupt: 100%|██████████| 448/448 [00:00<?, ?it/s]\n",
      "\u001b[34m\u001b[1mval: \u001b[0mScanning C:\\BigJoo\\study\\yolov8\\datasets\\valid\\labels.cache... 127 images, 0 backgrounds, 0 corrupt: 100%|██████████| 127/127 [00:00<?, ?it/s]\n"
     ]
    },
    {
     "name": "stdout",
     "output_type": "stream",
     "text": [
      "Plotting labels to runs\\detect\\train\\labels.jpg... \n",
      "\u001b[34m\u001b[1moptimizer:\u001b[0m 'optimizer=auto' found, ignoring 'lr0=0.01' and 'momentum=0.937' and determining best 'optimizer', 'lr0' and 'momentum' automatically... \n",
      "\u001b[34m\u001b[1moptimizer:\u001b[0m AdamW(lr=0.000909, momentum=0.9) with parameter groups 57 weight(decay=0.0), 64 weight(decay=0.0005), 63 bias(decay=0.0)\n",
      "Image sizes 416 train, 416 val\n",
      "Using 0 dataloader workers\n",
      "Logging results to \u001b[1mruns\\detect\\train\u001b[0m\n",
      "Starting training for 10 epochs...\n",
      "Closing dataloader mosaic\n",
      "\n",
      "      Epoch    GPU_mem   box_loss   cls_loss   dfl_loss  Instances       Size\n"
     ]
    },
    {
     "name": "stderr",
     "output_type": "stream",
     "text": [
      "       1/10      1.96G      1.601      4.266      1.283        227        416: 100%|██████████| 14/14 [00:06<00:00,  2.06it/s]\n",
      "                 Class     Images  Instances      Box(P          R      mAP50  mAP50-95): 100%|██████████| 2/2 [00:01<00:00,  1.28it/s]"
     ]
    },
    {
     "name": "stdout",
     "output_type": "stream",
     "text": [
      "                   all        127        909    0.00529      0.257     0.0294     0.0147\n"
     ]
    },
    {
     "name": "stderr",
     "output_type": "stream",
     "text": [
      "\n"
     ]
    },
    {
     "name": "stdout",
     "output_type": "stream",
     "text": [
      "\n",
      "      Epoch    GPU_mem   box_loss   cls_loss   dfl_loss  Instances       Size\n"
     ]
    },
    {
     "name": "stderr",
     "output_type": "stream",
     "text": [
      "       2/10      1.89G      1.662      3.355       1.19        214        416: 100%|██████████| 14/14 [00:05<00:00,  2.48it/s]\n",
      "                 Class     Images  Instances      Box(P          R      mAP50  mAP50-95): 100%|██████████| 2/2 [00:01<00:00,  1.38it/s]"
     ]
    },
    {
     "name": "stdout",
     "output_type": "stream",
     "text": [
      "                   all        127        909     0.0124      0.459      0.115     0.0563\n"
     ]
    },
    {
     "name": "stderr",
     "output_type": "stream",
     "text": [
      "\n"
     ]
    },
    {
     "name": "stdout",
     "output_type": "stream",
     "text": [
      "\n",
      "      Epoch    GPU_mem   box_loss   cls_loss   dfl_loss  Instances       Size\n"
     ]
    },
    {
     "name": "stderr",
     "output_type": "stream",
     "text": [
      "       3/10      1.93G      1.669      2.498      1.192        195        416: 100%|██████████| 14/14 [00:05<00:00,  2.40it/s]\n",
      "                 Class     Images  Instances      Box(P          R      mAP50  mAP50-95): 100%|██████████| 2/2 [00:01<00:00,  1.39it/s]"
     ]
    },
    {
     "name": "stdout",
     "output_type": "stream",
     "text": [
      "                   all        127        909     0.0144       0.53      0.193      0.101\n"
     ]
    },
    {
     "name": "stderr",
     "output_type": "stream",
     "text": [
      "\n"
     ]
    },
    {
     "name": "stdout",
     "output_type": "stream",
     "text": [
      "\n",
      "      Epoch    GPU_mem   box_loss   cls_loss   dfl_loss  Instances       Size\n"
     ]
    },
    {
     "name": "stderr",
     "output_type": "stream",
     "text": [
      "       4/10      1.93G       1.62      2.125      1.167        263        416: 100%|██████████| 14/14 [00:05<00:00,  2.50it/s]\n",
      "                 Class     Images  Instances      Box(P          R      mAP50  mAP50-95): 100%|██████████| 2/2 [00:01<00:00,  1.39it/s]"
     ]
    },
    {
     "name": "stdout",
     "output_type": "stream",
     "text": [
      "                   all        127        909      0.535     0.0941      0.274       0.14\n"
     ]
    },
    {
     "name": "stderr",
     "output_type": "stream",
     "text": [
      "\n"
     ]
    },
    {
     "name": "stdout",
     "output_type": "stream",
     "text": [
      "\n",
      "      Epoch    GPU_mem   box_loss   cls_loss   dfl_loss  Instances       Size\n"
     ]
    },
    {
     "name": "stderr",
     "output_type": "stream",
     "text": [
      "       5/10      1.91G       1.61      1.957      1.177        171        416: 100%|██████████| 14/14 [00:05<00:00,  2.41it/s]\n",
      "                 Class     Images  Instances      Box(P          R      mAP50  mAP50-95): 100%|██████████| 2/2 [00:01<00:00,  1.32it/s]"
     ]
    },
    {
     "name": "stdout",
     "output_type": "stream",
     "text": [
      "                   all        127        909      0.812     0.0894      0.325      0.169\n"
     ]
    },
    {
     "name": "stderr",
     "output_type": "stream",
     "text": [
      "\n"
     ]
    },
    {
     "name": "stdout",
     "output_type": "stream",
     "text": [
      "\n",
      "      Epoch    GPU_mem   box_loss   cls_loss   dfl_loss  Instances       Size\n"
     ]
    },
    {
     "name": "stderr",
     "output_type": "stream",
     "text": [
      "       6/10      1.93G      1.534      1.823      1.151        284        416: 100%|██████████| 14/14 [00:05<00:00,  2.46it/s]\n",
      "                 Class     Images  Instances      Box(P          R      mAP50  mAP50-95): 100%|██████████| 2/2 [00:01<00:00,  1.33it/s]"
     ]
    },
    {
     "name": "stdout",
     "output_type": "stream",
     "text": [
      "                   all        127        909      0.592      0.251      0.359        0.2\n"
     ]
    },
    {
     "name": "stderr",
     "output_type": "stream",
     "text": [
      "\n"
     ]
    },
    {
     "name": "stdout",
     "output_type": "stream",
     "text": [
      "\n",
      "      Epoch    GPU_mem   box_loss   cls_loss   dfl_loss  Instances       Size\n"
     ]
    },
    {
     "name": "stderr",
     "output_type": "stream",
     "text": [
      "       7/10      1.92G       1.53      1.731       1.13        302        416: 100%|██████████| 14/14 [00:05<00:00,  2.52it/s]\n",
      "                 Class     Images  Instances      Box(P          R      mAP50  mAP50-95): 100%|██████████| 2/2 [00:01<00:00,  1.37it/s]"
     ]
    },
    {
     "name": "stdout",
     "output_type": "stream",
     "text": [
      "                   all        127        909      0.624      0.232      0.392      0.211\n"
     ]
    },
    {
     "name": "stderr",
     "output_type": "stream",
     "text": [
      "\n"
     ]
    },
    {
     "name": "stdout",
     "output_type": "stream",
     "text": [
      "\n",
      "      Epoch    GPU_mem   box_loss   cls_loss   dfl_loss  Instances       Size\n"
     ]
    },
    {
     "name": "stderr",
     "output_type": "stream",
     "text": [
      "       8/10      1.92G      1.513      1.658      1.121        209        416: 100%|██████████| 14/14 [00:05<00:00,  2.52it/s]\n",
      "                 Class     Images  Instances      Box(P          R      mAP50  mAP50-95): 100%|██████████| 2/2 [00:01<00:00,  1.41it/s]"
     ]
    },
    {
     "name": "stdout",
     "output_type": "stream",
     "text": [
      "                   all        127        909      0.628      0.346      0.436       0.25\n"
     ]
    },
    {
     "name": "stderr",
     "output_type": "stream",
     "text": [
      "\n"
     ]
    },
    {
     "name": "stdout",
     "output_type": "stream",
     "text": [
      "\n",
      "      Epoch    GPU_mem   box_loss   cls_loss   dfl_loss  Instances       Size\n"
     ]
    },
    {
     "name": "stderr",
     "output_type": "stream",
     "text": [
      "       9/10      1.98G      1.441      1.553      1.115        389        416: 100%|██████████| 14/14 [00:05<00:00,  2.60it/s]\n",
      "                 Class     Images  Instances      Box(P          R      mAP50  mAP50-95): 100%|██████████| 2/2 [00:01<00:00,  1.44it/s]"
     ]
    },
    {
     "name": "stdout",
     "output_type": "stream",
     "text": [
      "                   all        127        909      0.668      0.413      0.492      0.281\n"
     ]
    },
    {
     "name": "stderr",
     "output_type": "stream",
     "text": [
      "\n"
     ]
    },
    {
     "name": "stdout",
     "output_type": "stream",
     "text": [
      "\n",
      "      Epoch    GPU_mem   box_loss   cls_loss   dfl_loss  Instances       Size\n"
     ]
    },
    {
     "name": "stderr",
     "output_type": "stream",
     "text": [
      "      10/10      1.97G      1.447      1.519      1.096        227        416: 100%|██████████| 14/14 [00:05<00:00,  2.58it/s]\n",
      "                 Class     Images  Instances      Box(P          R      mAP50  mAP50-95): 100%|██████████| 2/2 [00:01<00:00,  1.34it/s]"
     ]
    },
    {
     "name": "stdout",
     "output_type": "stream",
     "text": [
      "                   all        127        909      0.645      0.493      0.536      0.297\n"
     ]
    },
    {
     "name": "stderr",
     "output_type": "stream",
     "text": [
      "\n"
     ]
    },
    {
     "name": "stdout",
     "output_type": "stream",
     "text": [
      "\n",
      "10 epochs completed in 0.021 hours.\n",
      "Optimizer stripped from runs\\detect\\train\\weights\\last.pt, 6.2MB\n",
      "Optimizer stripped from runs\\detect\\train\\weights\\best.pt, 6.2MB\n",
      "\n",
      "Validating runs\\detect\\train\\weights\\best.pt...\n",
      "Ultralytics YOLOv8.1.19 🚀 Python-3.12.1 torch-2.2.1 CUDA:0 (NVIDIA GeForce RTX 3060, 12288MiB)\n",
      "Model summary (fused): 168 layers, 3007013 parameters, 0 gradients, 8.1 GFLOPs\n"
     ]
    },
    {
     "name": "stderr",
     "output_type": "stream",
     "text": [
      "                 Class     Images  Instances      Box(P          R      mAP50  mAP50-95): 100%|██████████| 2/2 [00:01<00:00,  1.09it/s]\n"
     ]
    },
    {
     "name": "stdout",
     "output_type": "stream",
     "text": [
      "                   all        127        909      0.652      0.491      0.537      0.296\n",
      "                  fish        127        459      0.655      0.558      0.612      0.308\n",
      "             jellyfish        127        155      0.813      0.819      0.897      0.483\n",
      "               penguin        127        104      0.519      0.404      0.446      0.194\n",
      "                puffin        127         74      0.541      0.216       0.24      0.114\n",
      "                 shark        127         57      0.472      0.491      0.459      0.265\n",
      "              starfish        127         27      0.817       0.37      0.485      0.286\n",
      "              stingray        127         33       0.75      0.576      0.621      0.423\n",
      "Speed: 0.1ms preprocess, 1.7ms inference, 0.0ms loss, 1.1ms postprocess per image\n",
      "Results saved to \u001b[1mruns\\detect\\train\u001b[0m\n"
     ]
    },
    {
     "data": {
      "text/plain": [
       "ultralytics.utils.metrics.DetMetrics object with attributes:\n",
       "\n",
       "ap_class_index: array([0, 1, 2, 3, 4, 5, 6])\n",
       "box: ultralytics.utils.metrics.Metric object\n",
       "confusion_matrix: <ultralytics.utils.metrics.ConfusionMatrix object at 0x00000297CB294500>\n",
       "curves: ['Precision-Recall(B)', 'F1-Confidence(B)', 'Precision-Confidence(B)', 'Recall-Confidence(B)']\n",
       "curves_results: [[array([          0,    0.001001,    0.002002,    0.003003,    0.004004,    0.005005,    0.006006,    0.007007,    0.008008,    0.009009,     0.01001,    0.011011,    0.012012,    0.013013,    0.014014,    0.015015,    0.016016,    0.017017,    0.018018,    0.019019,     0.02002,    0.021021,    0.022022,    0.023023,\n",
       "          0.024024,    0.025025,    0.026026,    0.027027,    0.028028,    0.029029,     0.03003,    0.031031,    0.032032,    0.033033,    0.034034,    0.035035,    0.036036,    0.037037,    0.038038,    0.039039,     0.04004,    0.041041,    0.042042,    0.043043,    0.044044,    0.045045,    0.046046,    0.047047,\n",
       "          0.048048,    0.049049,     0.05005,    0.051051,    0.052052,    0.053053,    0.054054,    0.055055,    0.056056,    0.057057,    0.058058,    0.059059,     0.06006,    0.061061,    0.062062,    0.063063,    0.064064,    0.065065,    0.066066,    0.067067,    0.068068,    0.069069,     0.07007,    0.071071,\n",
       "          0.072072,    0.073073,    0.074074,    0.075075,    0.076076,    0.077077,    0.078078,    0.079079,     0.08008,    0.081081,    0.082082,    0.083083,    0.084084,    0.085085,    0.086086,    0.087087,    0.088088,    0.089089,     0.09009,    0.091091,    0.092092,    0.093093,    0.094094,    0.095095,\n",
       "          0.096096,    0.097097,    0.098098,    0.099099,      0.1001,      0.1011,      0.1021,      0.1031,      0.1041,     0.10511,     0.10611,     0.10711,     0.10811,     0.10911,     0.11011,     0.11111,     0.11211,     0.11311,     0.11411,     0.11512,     0.11612,     0.11712,     0.11812,     0.11912,\n",
       "           0.12012,     0.12112,     0.12212,     0.12312,     0.12412,     0.12513,     0.12613,     0.12713,     0.12813,     0.12913,     0.13013,     0.13113,     0.13213,     0.13313,     0.13413,     0.13514,     0.13614,     0.13714,     0.13814,     0.13914,     0.14014,     0.14114,     0.14214,     0.14314,\n",
       "           0.14414,     0.14515,     0.14615,     0.14715,     0.14815,     0.14915,     0.15015,     0.15115,     0.15215,     0.15315,     0.15415,     0.15516,     0.15616,     0.15716,     0.15816,     0.15916,     0.16016,     0.16116,     0.16216,     0.16316,     0.16416,     0.16517,     0.16617,     0.16717,\n",
       "           0.16817,     0.16917,     0.17017,     0.17117,     0.17217,     0.17317,     0.17417,     0.17518,     0.17618,     0.17718,     0.17818,     0.17918,     0.18018,     0.18118,     0.18218,     0.18318,     0.18418,     0.18519,     0.18619,     0.18719,     0.18819,     0.18919,     0.19019,     0.19119,\n",
       "           0.19219,     0.19319,     0.19419,      0.1952,      0.1962,      0.1972,      0.1982,      0.1992,      0.2002,      0.2012,      0.2022,      0.2032,      0.2042,     0.20521,     0.20621,     0.20721,     0.20821,     0.20921,     0.21021,     0.21121,     0.21221,     0.21321,     0.21421,     0.21522,\n",
       "           0.21622,     0.21722,     0.21822,     0.21922,     0.22022,     0.22122,     0.22222,     0.22322,     0.22422,     0.22523,     0.22623,     0.22723,     0.22823,     0.22923,     0.23023,     0.23123,     0.23223,     0.23323,     0.23423,     0.23524,     0.23624,     0.23724,     0.23824,     0.23924,\n",
       "           0.24024,     0.24124,     0.24224,     0.24324,     0.24424,     0.24525,     0.24625,     0.24725,     0.24825,     0.24925,     0.25025,     0.25125,     0.25225,     0.25325,     0.25425,     0.25526,     0.25626,     0.25726,     0.25826,     0.25926,     0.26026,     0.26126,     0.26226,     0.26326,\n",
       "           0.26426,     0.26527,     0.26627,     0.26727,     0.26827,     0.26927,     0.27027,     0.27127,     0.27227,     0.27327,     0.27427,     0.27528,     0.27628,     0.27728,     0.27828,     0.27928,     0.28028,     0.28128,     0.28228,     0.28328,     0.28428,     0.28529,     0.28629,     0.28729,\n",
       "           0.28829,     0.28929,     0.29029,     0.29129,     0.29229,     0.29329,     0.29429,      0.2953,      0.2963,      0.2973,      0.2983,      0.2993,      0.3003,      0.3013,      0.3023,      0.3033,      0.3043,     0.30531,     0.30631,     0.30731,     0.30831,     0.30931,     0.31031,     0.31131,\n",
       "           0.31231,     0.31331,     0.31431,     0.31532,     0.31632,     0.31732,     0.31832,     0.31932,     0.32032,     0.32132,     0.32232,     0.32332,     0.32432,     0.32533,     0.32633,     0.32733,     0.32833,     0.32933,     0.33033,     0.33133,     0.33233,     0.33333,     0.33433,     0.33534,\n",
       "           0.33634,     0.33734,     0.33834,     0.33934,     0.34034,     0.34134,     0.34234,     0.34334,     0.34434,     0.34535,     0.34635,     0.34735,     0.34835,     0.34935,     0.35035,     0.35135,     0.35235,     0.35335,     0.35435,     0.35536,     0.35636,     0.35736,     0.35836,     0.35936,\n",
       "           0.36036,     0.36136,     0.36236,     0.36336,     0.36436,     0.36537,     0.36637,     0.36737,     0.36837,     0.36937,     0.37037,     0.37137,     0.37237,     0.37337,     0.37437,     0.37538,     0.37638,     0.37738,     0.37838,     0.37938,     0.38038,     0.38138,     0.38238,     0.38338,\n",
       "           0.38438,     0.38539,     0.38639,     0.38739,     0.38839,     0.38939,     0.39039,     0.39139,     0.39239,     0.39339,     0.39439,      0.3954,      0.3964,      0.3974,      0.3984,      0.3994,      0.4004,      0.4014,      0.4024,      0.4034,      0.4044,     0.40541,     0.40641,     0.40741,\n",
       "           0.40841,     0.40941,     0.41041,     0.41141,     0.41241,     0.41341,     0.41441,     0.41542,     0.41642,     0.41742,     0.41842,     0.41942,     0.42042,     0.42142,     0.42242,     0.42342,     0.42442,     0.42543,     0.42643,     0.42743,     0.42843,     0.42943,     0.43043,     0.43143,\n",
       "           0.43243,     0.43343,     0.43443,     0.43544,     0.43644,     0.43744,     0.43844,     0.43944,     0.44044,     0.44144,     0.44244,     0.44344,     0.44444,     0.44545,     0.44645,     0.44745,     0.44845,     0.44945,     0.45045,     0.45145,     0.45245,     0.45345,     0.45445,     0.45546,\n",
       "           0.45646,     0.45746,     0.45846,     0.45946,     0.46046,     0.46146,     0.46246,     0.46346,     0.46446,     0.46547,     0.46647,     0.46747,     0.46847,     0.46947,     0.47047,     0.47147,     0.47247,     0.47347,     0.47447,     0.47548,     0.47648,     0.47748,     0.47848,     0.47948,\n",
       "           0.48048,     0.48148,     0.48248,     0.48348,     0.48448,     0.48549,     0.48649,     0.48749,     0.48849,     0.48949,     0.49049,     0.49149,     0.49249,     0.49349,     0.49449,      0.4955,      0.4965,      0.4975,      0.4985,      0.4995,      0.5005,      0.5015,      0.5025,      0.5035,\n",
       "            0.5045,     0.50551,     0.50651,     0.50751,     0.50851,     0.50951,     0.51051,     0.51151,     0.51251,     0.51351,     0.51451,     0.51552,     0.51652,     0.51752,     0.51852,     0.51952,     0.52052,     0.52152,     0.52252,     0.52352,     0.52452,     0.52553,     0.52653,     0.52753,\n",
       "           0.52853,     0.52953,     0.53053,     0.53153,     0.53253,     0.53353,     0.53453,     0.53554,     0.53654,     0.53754,     0.53854,     0.53954,     0.54054,     0.54154,     0.54254,     0.54354,     0.54454,     0.54555,     0.54655,     0.54755,     0.54855,     0.54955,     0.55055,     0.55155,\n",
       "           0.55255,     0.55355,     0.55455,     0.55556,     0.55656,     0.55756,     0.55856,     0.55956,     0.56056,     0.56156,     0.56256,     0.56356,     0.56456,     0.56557,     0.56657,     0.56757,     0.56857,     0.56957,     0.57057,     0.57157,     0.57257,     0.57357,     0.57457,     0.57558,\n",
       "           0.57658,     0.57758,     0.57858,     0.57958,     0.58058,     0.58158,     0.58258,     0.58358,     0.58458,     0.58559,     0.58659,     0.58759,     0.58859,     0.58959,     0.59059,     0.59159,     0.59259,     0.59359,     0.59459,      0.5956,      0.5966,      0.5976,      0.5986,      0.5996,\n",
       "            0.6006,      0.6016,      0.6026,      0.6036,      0.6046,     0.60561,     0.60661,     0.60761,     0.60861,     0.60961,     0.61061,     0.61161,     0.61261,     0.61361,     0.61461,     0.61562,     0.61662,     0.61762,     0.61862,     0.61962,     0.62062,     0.62162,     0.62262,     0.62362,\n",
       "           0.62462,     0.62563,     0.62663,     0.62763,     0.62863,     0.62963,     0.63063,     0.63163,     0.63263,     0.63363,     0.63463,     0.63564,     0.63664,     0.63764,     0.63864,     0.63964,     0.64064,     0.64164,     0.64264,     0.64364,     0.64464,     0.64565,     0.64665,     0.64765,\n",
       "           0.64865,     0.64965,     0.65065,     0.65165,     0.65265,     0.65365,     0.65465,     0.65566,     0.65666,     0.65766,     0.65866,     0.65966,     0.66066,     0.66166,     0.66266,     0.66366,     0.66466,     0.66567,     0.66667,     0.66767,     0.66867,     0.66967,     0.67067,     0.67167,\n",
       "           0.67267,     0.67367,     0.67467,     0.67568,     0.67668,     0.67768,     0.67868,     0.67968,     0.68068,     0.68168,     0.68268,     0.68368,     0.68468,     0.68569,     0.68669,     0.68769,     0.68869,     0.68969,     0.69069,     0.69169,     0.69269,     0.69369,     0.69469,      0.6957,\n",
       "            0.6967,      0.6977,      0.6987,      0.6997,      0.7007,      0.7017,      0.7027,      0.7037,      0.7047,     0.70571,     0.70671,     0.70771,     0.70871,     0.70971,     0.71071,     0.71171,     0.71271,     0.71371,     0.71471,     0.71572,     0.71672,     0.71772,     0.71872,     0.71972,\n",
       "           0.72072,     0.72172,     0.72272,     0.72372,     0.72472,     0.72573,     0.72673,     0.72773,     0.72873,     0.72973,     0.73073,     0.73173,     0.73273,     0.73373,     0.73473,     0.73574,     0.73674,     0.73774,     0.73874,     0.73974,     0.74074,     0.74174,     0.74274,     0.74374,\n",
       "           0.74474,     0.74575,     0.74675,     0.74775,     0.74875,     0.74975,     0.75075,     0.75175,     0.75275,     0.75375,     0.75475,     0.75576,     0.75676,     0.75776,     0.75876,     0.75976,     0.76076,     0.76176,     0.76276,     0.76376,     0.76476,     0.76577,     0.76677,     0.76777,\n",
       "           0.76877,     0.76977,     0.77077,     0.77177,     0.77277,     0.77377,     0.77477,     0.77578,     0.77678,     0.77778,     0.77878,     0.77978,     0.78078,     0.78178,     0.78278,     0.78378,     0.78478,     0.78579,     0.78679,     0.78779,     0.78879,     0.78979,     0.79079,     0.79179,\n",
       "           0.79279,     0.79379,     0.79479,      0.7958,      0.7968,      0.7978,      0.7988,      0.7998,      0.8008,      0.8018,      0.8028,      0.8038,      0.8048,     0.80581,     0.80681,     0.80781,     0.80881,     0.80981,     0.81081,     0.81181,     0.81281,     0.81381,     0.81481,     0.81582,\n",
       "           0.81682,     0.81782,     0.81882,     0.81982,     0.82082,     0.82182,     0.82282,     0.82382,     0.82482,     0.82583,     0.82683,     0.82783,     0.82883,     0.82983,     0.83083,     0.83183,     0.83283,     0.83383,     0.83483,     0.83584,     0.83684,     0.83784,     0.83884,     0.83984,\n",
       "           0.84084,     0.84184,     0.84284,     0.84384,     0.84484,     0.84585,     0.84685,     0.84785,     0.84885,     0.84985,     0.85085,     0.85185,     0.85285,     0.85385,     0.85485,     0.85586,     0.85686,     0.85786,     0.85886,     0.85986,     0.86086,     0.86186,     0.86286,     0.86386,\n",
       "           0.86486,     0.86587,     0.86687,     0.86787,     0.86887,     0.86987,     0.87087,     0.87187,     0.87287,     0.87387,     0.87487,     0.87588,     0.87688,     0.87788,     0.87888,     0.87988,     0.88088,     0.88188,     0.88288,     0.88388,     0.88488,     0.88589,     0.88689,     0.88789,\n",
       "           0.88889,     0.88989,     0.89089,     0.89189,     0.89289,     0.89389,     0.89489,      0.8959,      0.8969,      0.8979,      0.8989,      0.8999,      0.9009,      0.9019,      0.9029,      0.9039,      0.9049,     0.90591,     0.90691,     0.90791,     0.90891,     0.90991,     0.91091,     0.91191,\n",
       "           0.91291,     0.91391,     0.91491,     0.91592,     0.91692,     0.91792,     0.91892,     0.91992,     0.92092,     0.92192,     0.92292,     0.92392,     0.92492,     0.92593,     0.92693,     0.92793,     0.92893,     0.92993,     0.93093,     0.93193,     0.93293,     0.93393,     0.93493,     0.93594,\n",
       "           0.93694,     0.93794,     0.93894,     0.93994,     0.94094,     0.94194,     0.94294,     0.94394,     0.94494,     0.94595,     0.94695,     0.94795,     0.94895,     0.94995,     0.95095,     0.95195,     0.95295,     0.95395,     0.95495,     0.95596,     0.95696,     0.95796,     0.95896,     0.95996,\n",
       "           0.96096,     0.96196,     0.96296,     0.96396,     0.96496,     0.96597,     0.96697,     0.96797,     0.96897,     0.96997,     0.97097,     0.97197,     0.97297,     0.97397,     0.97497,     0.97598,     0.97698,     0.97798,     0.97898,     0.97998,     0.98098,     0.98198,     0.98298,     0.98398,\n",
       "           0.98498,     0.98599,     0.98699,     0.98799,     0.98899,     0.98999,     0.99099,     0.99199,     0.99299,     0.99399,     0.99499,       0.996,       0.997,       0.998,       0.999,           1]), array([[          1,           1,           1, ...,  0.00091762,  0.00045881,           0],\n",
       "       [          1,           1,           1, ...,   0.0041371,   0.0020686,           0],\n",
       "       [          1,           1,           1, ...,   0.0002349,  0.00011745,           0],\n",
       "       ...,\n",
       "       [          1,           1,           1, ...,  0.00020941,   0.0001047,           0],\n",
       "       [          1,           1,           1, ...,  0.00020612,  0.00010306,           0],\n",
       "       [          1,           1,           1, ...,  5.6606e-05,  2.8303e-05,           0]]), 'Recall', 'Precision'], [array([          0,    0.001001,    0.002002,    0.003003,    0.004004,    0.005005,    0.006006,    0.007007,    0.008008,    0.009009,     0.01001,    0.011011,    0.012012,    0.013013,    0.014014,    0.015015,    0.016016,    0.017017,    0.018018,    0.019019,     0.02002,    0.021021,    0.022022,    0.023023,\n",
       "          0.024024,    0.025025,    0.026026,    0.027027,    0.028028,    0.029029,     0.03003,    0.031031,    0.032032,    0.033033,    0.034034,    0.035035,    0.036036,    0.037037,    0.038038,    0.039039,     0.04004,    0.041041,    0.042042,    0.043043,    0.044044,    0.045045,    0.046046,    0.047047,\n",
       "          0.048048,    0.049049,     0.05005,    0.051051,    0.052052,    0.053053,    0.054054,    0.055055,    0.056056,    0.057057,    0.058058,    0.059059,     0.06006,    0.061061,    0.062062,    0.063063,    0.064064,    0.065065,    0.066066,    0.067067,    0.068068,    0.069069,     0.07007,    0.071071,\n",
       "          0.072072,    0.073073,    0.074074,    0.075075,    0.076076,    0.077077,    0.078078,    0.079079,     0.08008,    0.081081,    0.082082,    0.083083,    0.084084,    0.085085,    0.086086,    0.087087,    0.088088,    0.089089,     0.09009,    0.091091,    0.092092,    0.093093,    0.094094,    0.095095,\n",
       "          0.096096,    0.097097,    0.098098,    0.099099,      0.1001,      0.1011,      0.1021,      0.1031,      0.1041,     0.10511,     0.10611,     0.10711,     0.10811,     0.10911,     0.11011,     0.11111,     0.11211,     0.11311,     0.11411,     0.11512,     0.11612,     0.11712,     0.11812,     0.11912,\n",
       "           0.12012,     0.12112,     0.12212,     0.12312,     0.12412,     0.12513,     0.12613,     0.12713,     0.12813,     0.12913,     0.13013,     0.13113,     0.13213,     0.13313,     0.13413,     0.13514,     0.13614,     0.13714,     0.13814,     0.13914,     0.14014,     0.14114,     0.14214,     0.14314,\n",
       "           0.14414,     0.14515,     0.14615,     0.14715,     0.14815,     0.14915,     0.15015,     0.15115,     0.15215,     0.15315,     0.15415,     0.15516,     0.15616,     0.15716,     0.15816,     0.15916,     0.16016,     0.16116,     0.16216,     0.16316,     0.16416,     0.16517,     0.16617,     0.16717,\n",
       "           0.16817,     0.16917,     0.17017,     0.17117,     0.17217,     0.17317,     0.17417,     0.17518,     0.17618,     0.17718,     0.17818,     0.17918,     0.18018,     0.18118,     0.18218,     0.18318,     0.18418,     0.18519,     0.18619,     0.18719,     0.18819,     0.18919,     0.19019,     0.19119,\n",
       "           0.19219,     0.19319,     0.19419,      0.1952,      0.1962,      0.1972,      0.1982,      0.1992,      0.2002,      0.2012,      0.2022,      0.2032,      0.2042,     0.20521,     0.20621,     0.20721,     0.20821,     0.20921,     0.21021,     0.21121,     0.21221,     0.21321,     0.21421,     0.21522,\n",
       "           0.21622,     0.21722,     0.21822,     0.21922,     0.22022,     0.22122,     0.22222,     0.22322,     0.22422,     0.22523,     0.22623,     0.22723,     0.22823,     0.22923,     0.23023,     0.23123,     0.23223,     0.23323,     0.23423,     0.23524,     0.23624,     0.23724,     0.23824,     0.23924,\n",
       "           0.24024,     0.24124,     0.24224,     0.24324,     0.24424,     0.24525,     0.24625,     0.24725,     0.24825,     0.24925,     0.25025,     0.25125,     0.25225,     0.25325,     0.25425,     0.25526,     0.25626,     0.25726,     0.25826,     0.25926,     0.26026,     0.26126,     0.26226,     0.26326,\n",
       "           0.26426,     0.26527,     0.26627,     0.26727,     0.26827,     0.26927,     0.27027,     0.27127,     0.27227,     0.27327,     0.27427,     0.27528,     0.27628,     0.27728,     0.27828,     0.27928,     0.28028,     0.28128,     0.28228,     0.28328,     0.28428,     0.28529,     0.28629,     0.28729,\n",
       "           0.28829,     0.28929,     0.29029,     0.29129,     0.29229,     0.29329,     0.29429,      0.2953,      0.2963,      0.2973,      0.2983,      0.2993,      0.3003,      0.3013,      0.3023,      0.3033,      0.3043,     0.30531,     0.30631,     0.30731,     0.30831,     0.30931,     0.31031,     0.31131,\n",
       "           0.31231,     0.31331,     0.31431,     0.31532,     0.31632,     0.31732,     0.31832,     0.31932,     0.32032,     0.32132,     0.32232,     0.32332,     0.32432,     0.32533,     0.32633,     0.32733,     0.32833,     0.32933,     0.33033,     0.33133,     0.33233,     0.33333,     0.33433,     0.33534,\n",
       "           0.33634,     0.33734,     0.33834,     0.33934,     0.34034,     0.34134,     0.34234,     0.34334,     0.34434,     0.34535,     0.34635,     0.34735,     0.34835,     0.34935,     0.35035,     0.35135,     0.35235,     0.35335,     0.35435,     0.35536,     0.35636,     0.35736,     0.35836,     0.35936,\n",
       "           0.36036,     0.36136,     0.36236,     0.36336,     0.36436,     0.36537,     0.36637,     0.36737,     0.36837,     0.36937,     0.37037,     0.37137,     0.37237,     0.37337,     0.37437,     0.37538,     0.37638,     0.37738,     0.37838,     0.37938,     0.38038,     0.38138,     0.38238,     0.38338,\n",
       "           0.38438,     0.38539,     0.38639,     0.38739,     0.38839,     0.38939,     0.39039,     0.39139,     0.39239,     0.39339,     0.39439,      0.3954,      0.3964,      0.3974,      0.3984,      0.3994,      0.4004,      0.4014,      0.4024,      0.4034,      0.4044,     0.40541,     0.40641,     0.40741,\n",
       "           0.40841,     0.40941,     0.41041,     0.41141,     0.41241,     0.41341,     0.41441,     0.41542,     0.41642,     0.41742,     0.41842,     0.41942,     0.42042,     0.42142,     0.42242,     0.42342,     0.42442,     0.42543,     0.42643,     0.42743,     0.42843,     0.42943,     0.43043,     0.43143,\n",
       "           0.43243,     0.43343,     0.43443,     0.43544,     0.43644,     0.43744,     0.43844,     0.43944,     0.44044,     0.44144,     0.44244,     0.44344,     0.44444,     0.44545,     0.44645,     0.44745,     0.44845,     0.44945,     0.45045,     0.45145,     0.45245,     0.45345,     0.45445,     0.45546,\n",
       "           0.45646,     0.45746,     0.45846,     0.45946,     0.46046,     0.46146,     0.46246,     0.46346,     0.46446,     0.46547,     0.46647,     0.46747,     0.46847,     0.46947,     0.47047,     0.47147,     0.47247,     0.47347,     0.47447,     0.47548,     0.47648,     0.47748,     0.47848,     0.47948,\n",
       "           0.48048,     0.48148,     0.48248,     0.48348,     0.48448,     0.48549,     0.48649,     0.48749,     0.48849,     0.48949,     0.49049,     0.49149,     0.49249,     0.49349,     0.49449,      0.4955,      0.4965,      0.4975,      0.4985,      0.4995,      0.5005,      0.5015,      0.5025,      0.5035,\n",
       "            0.5045,     0.50551,     0.50651,     0.50751,     0.50851,     0.50951,     0.51051,     0.51151,     0.51251,     0.51351,     0.51451,     0.51552,     0.51652,     0.51752,     0.51852,     0.51952,     0.52052,     0.52152,     0.52252,     0.52352,     0.52452,     0.52553,     0.52653,     0.52753,\n",
       "           0.52853,     0.52953,     0.53053,     0.53153,     0.53253,     0.53353,     0.53453,     0.53554,     0.53654,     0.53754,     0.53854,     0.53954,     0.54054,     0.54154,     0.54254,     0.54354,     0.54454,     0.54555,     0.54655,     0.54755,     0.54855,     0.54955,     0.55055,     0.55155,\n",
       "           0.55255,     0.55355,     0.55455,     0.55556,     0.55656,     0.55756,     0.55856,     0.55956,     0.56056,     0.56156,     0.56256,     0.56356,     0.56456,     0.56557,     0.56657,     0.56757,     0.56857,     0.56957,     0.57057,     0.57157,     0.57257,     0.57357,     0.57457,     0.57558,\n",
       "           0.57658,     0.57758,     0.57858,     0.57958,     0.58058,     0.58158,     0.58258,     0.58358,     0.58458,     0.58559,     0.58659,     0.58759,     0.58859,     0.58959,     0.59059,     0.59159,     0.59259,     0.59359,     0.59459,      0.5956,      0.5966,      0.5976,      0.5986,      0.5996,\n",
       "            0.6006,      0.6016,      0.6026,      0.6036,      0.6046,     0.60561,     0.60661,     0.60761,     0.60861,     0.60961,     0.61061,     0.61161,     0.61261,     0.61361,     0.61461,     0.61562,     0.61662,     0.61762,     0.61862,     0.61962,     0.62062,     0.62162,     0.62262,     0.62362,\n",
       "           0.62462,     0.62563,     0.62663,     0.62763,     0.62863,     0.62963,     0.63063,     0.63163,     0.63263,     0.63363,     0.63463,     0.63564,     0.63664,     0.63764,     0.63864,     0.63964,     0.64064,     0.64164,     0.64264,     0.64364,     0.64464,     0.64565,     0.64665,     0.64765,\n",
       "           0.64865,     0.64965,     0.65065,     0.65165,     0.65265,     0.65365,     0.65465,     0.65566,     0.65666,     0.65766,     0.65866,     0.65966,     0.66066,     0.66166,     0.66266,     0.66366,     0.66466,     0.66567,     0.66667,     0.66767,     0.66867,     0.66967,     0.67067,     0.67167,\n",
       "           0.67267,     0.67367,     0.67467,     0.67568,     0.67668,     0.67768,     0.67868,     0.67968,     0.68068,     0.68168,     0.68268,     0.68368,     0.68468,     0.68569,     0.68669,     0.68769,     0.68869,     0.68969,     0.69069,     0.69169,     0.69269,     0.69369,     0.69469,      0.6957,\n",
       "            0.6967,      0.6977,      0.6987,      0.6997,      0.7007,      0.7017,      0.7027,      0.7037,      0.7047,     0.70571,     0.70671,     0.70771,     0.70871,     0.70971,     0.71071,     0.71171,     0.71271,     0.71371,     0.71471,     0.71572,     0.71672,     0.71772,     0.71872,     0.71972,\n",
       "           0.72072,     0.72172,     0.72272,     0.72372,     0.72472,     0.72573,     0.72673,     0.72773,     0.72873,     0.72973,     0.73073,     0.73173,     0.73273,     0.73373,     0.73473,     0.73574,     0.73674,     0.73774,     0.73874,     0.73974,     0.74074,     0.74174,     0.74274,     0.74374,\n",
       "           0.74474,     0.74575,     0.74675,     0.74775,     0.74875,     0.74975,     0.75075,     0.75175,     0.75275,     0.75375,     0.75475,     0.75576,     0.75676,     0.75776,     0.75876,     0.75976,     0.76076,     0.76176,     0.76276,     0.76376,     0.76476,     0.76577,     0.76677,     0.76777,\n",
       "           0.76877,     0.76977,     0.77077,     0.77177,     0.77277,     0.77377,     0.77477,     0.77578,     0.77678,     0.77778,     0.77878,     0.77978,     0.78078,     0.78178,     0.78278,     0.78378,     0.78478,     0.78579,     0.78679,     0.78779,     0.78879,     0.78979,     0.79079,     0.79179,\n",
       "           0.79279,     0.79379,     0.79479,      0.7958,      0.7968,      0.7978,      0.7988,      0.7998,      0.8008,      0.8018,      0.8028,      0.8038,      0.8048,     0.80581,     0.80681,     0.80781,     0.80881,     0.80981,     0.81081,     0.81181,     0.81281,     0.81381,     0.81481,     0.81582,\n",
       "           0.81682,     0.81782,     0.81882,     0.81982,     0.82082,     0.82182,     0.82282,     0.82382,     0.82482,     0.82583,     0.82683,     0.82783,     0.82883,     0.82983,     0.83083,     0.83183,     0.83283,     0.83383,     0.83483,     0.83584,     0.83684,     0.83784,     0.83884,     0.83984,\n",
       "           0.84084,     0.84184,     0.84284,     0.84384,     0.84484,     0.84585,     0.84685,     0.84785,     0.84885,     0.84985,     0.85085,     0.85185,     0.85285,     0.85385,     0.85485,     0.85586,     0.85686,     0.85786,     0.85886,     0.85986,     0.86086,     0.86186,     0.86286,     0.86386,\n",
       "           0.86486,     0.86587,     0.86687,     0.86787,     0.86887,     0.86987,     0.87087,     0.87187,     0.87287,     0.87387,     0.87487,     0.87588,     0.87688,     0.87788,     0.87888,     0.87988,     0.88088,     0.88188,     0.88288,     0.88388,     0.88488,     0.88589,     0.88689,     0.88789,\n",
       "           0.88889,     0.88989,     0.89089,     0.89189,     0.89289,     0.89389,     0.89489,      0.8959,      0.8969,      0.8979,      0.8989,      0.8999,      0.9009,      0.9019,      0.9029,      0.9039,      0.9049,     0.90591,     0.90691,     0.90791,     0.90891,     0.90991,     0.91091,     0.91191,\n",
       "           0.91291,     0.91391,     0.91491,     0.91592,     0.91692,     0.91792,     0.91892,     0.91992,     0.92092,     0.92192,     0.92292,     0.92392,     0.92492,     0.92593,     0.92693,     0.92793,     0.92893,     0.92993,     0.93093,     0.93193,     0.93293,     0.93393,     0.93493,     0.93594,\n",
       "           0.93694,     0.93794,     0.93894,     0.93994,     0.94094,     0.94194,     0.94294,     0.94394,     0.94494,     0.94595,     0.94695,     0.94795,     0.94895,     0.94995,     0.95095,     0.95195,     0.95295,     0.95395,     0.95495,     0.95596,     0.95696,     0.95796,     0.95896,     0.95996,\n",
       "           0.96096,     0.96196,     0.96296,     0.96396,     0.96496,     0.96597,     0.96697,     0.96797,     0.96897,     0.96997,     0.97097,     0.97197,     0.97297,     0.97397,     0.97497,     0.97598,     0.97698,     0.97798,     0.97898,     0.97998,     0.98098,     0.98198,     0.98298,     0.98398,\n",
       "           0.98498,     0.98599,     0.98699,     0.98799,     0.98899,     0.98999,     0.99099,     0.99199,     0.99299,     0.99399,     0.99499,       0.996,       0.997,       0.998,       0.999,           1]), array([[   0.087407,    0.087407,     0.10911, ...,           0,           0,           0],\n",
       "       [   0.051926,    0.051926,     0.12373, ...,           0,           0,           0],\n",
       "       [   0.035348,    0.035348,    0.060856, ...,           0,           0,           0],\n",
       "       ...,\n",
       "       [   0.021753,    0.021753,    0.035539, ...,           0,           0,           0],\n",
       "       [   0.015129,    0.015129,    0.036817, ...,           0,           0,           0],\n",
       "       [   0.010218,    0.010218,    0.024987, ...,           0,           0,           0]]), 'Confidence', 'F1'], [array([          0,    0.001001,    0.002002,    0.003003,    0.004004,    0.005005,    0.006006,    0.007007,    0.008008,    0.009009,     0.01001,    0.011011,    0.012012,    0.013013,    0.014014,    0.015015,    0.016016,    0.017017,    0.018018,    0.019019,     0.02002,    0.021021,    0.022022,    0.023023,\n",
       "          0.024024,    0.025025,    0.026026,    0.027027,    0.028028,    0.029029,     0.03003,    0.031031,    0.032032,    0.033033,    0.034034,    0.035035,    0.036036,    0.037037,    0.038038,    0.039039,     0.04004,    0.041041,    0.042042,    0.043043,    0.044044,    0.045045,    0.046046,    0.047047,\n",
       "          0.048048,    0.049049,     0.05005,    0.051051,    0.052052,    0.053053,    0.054054,    0.055055,    0.056056,    0.057057,    0.058058,    0.059059,     0.06006,    0.061061,    0.062062,    0.063063,    0.064064,    0.065065,    0.066066,    0.067067,    0.068068,    0.069069,     0.07007,    0.071071,\n",
       "          0.072072,    0.073073,    0.074074,    0.075075,    0.076076,    0.077077,    0.078078,    0.079079,     0.08008,    0.081081,    0.082082,    0.083083,    0.084084,    0.085085,    0.086086,    0.087087,    0.088088,    0.089089,     0.09009,    0.091091,    0.092092,    0.093093,    0.094094,    0.095095,\n",
       "          0.096096,    0.097097,    0.098098,    0.099099,      0.1001,      0.1011,      0.1021,      0.1031,      0.1041,     0.10511,     0.10611,     0.10711,     0.10811,     0.10911,     0.11011,     0.11111,     0.11211,     0.11311,     0.11411,     0.11512,     0.11612,     0.11712,     0.11812,     0.11912,\n",
       "           0.12012,     0.12112,     0.12212,     0.12312,     0.12412,     0.12513,     0.12613,     0.12713,     0.12813,     0.12913,     0.13013,     0.13113,     0.13213,     0.13313,     0.13413,     0.13514,     0.13614,     0.13714,     0.13814,     0.13914,     0.14014,     0.14114,     0.14214,     0.14314,\n",
       "           0.14414,     0.14515,     0.14615,     0.14715,     0.14815,     0.14915,     0.15015,     0.15115,     0.15215,     0.15315,     0.15415,     0.15516,     0.15616,     0.15716,     0.15816,     0.15916,     0.16016,     0.16116,     0.16216,     0.16316,     0.16416,     0.16517,     0.16617,     0.16717,\n",
       "           0.16817,     0.16917,     0.17017,     0.17117,     0.17217,     0.17317,     0.17417,     0.17518,     0.17618,     0.17718,     0.17818,     0.17918,     0.18018,     0.18118,     0.18218,     0.18318,     0.18418,     0.18519,     0.18619,     0.18719,     0.18819,     0.18919,     0.19019,     0.19119,\n",
       "           0.19219,     0.19319,     0.19419,      0.1952,      0.1962,      0.1972,      0.1982,      0.1992,      0.2002,      0.2012,      0.2022,      0.2032,      0.2042,     0.20521,     0.20621,     0.20721,     0.20821,     0.20921,     0.21021,     0.21121,     0.21221,     0.21321,     0.21421,     0.21522,\n",
       "           0.21622,     0.21722,     0.21822,     0.21922,     0.22022,     0.22122,     0.22222,     0.22322,     0.22422,     0.22523,     0.22623,     0.22723,     0.22823,     0.22923,     0.23023,     0.23123,     0.23223,     0.23323,     0.23423,     0.23524,     0.23624,     0.23724,     0.23824,     0.23924,\n",
       "           0.24024,     0.24124,     0.24224,     0.24324,     0.24424,     0.24525,     0.24625,     0.24725,     0.24825,     0.24925,     0.25025,     0.25125,     0.25225,     0.25325,     0.25425,     0.25526,     0.25626,     0.25726,     0.25826,     0.25926,     0.26026,     0.26126,     0.26226,     0.26326,\n",
       "           0.26426,     0.26527,     0.26627,     0.26727,     0.26827,     0.26927,     0.27027,     0.27127,     0.27227,     0.27327,     0.27427,     0.27528,     0.27628,     0.27728,     0.27828,     0.27928,     0.28028,     0.28128,     0.28228,     0.28328,     0.28428,     0.28529,     0.28629,     0.28729,\n",
       "           0.28829,     0.28929,     0.29029,     0.29129,     0.29229,     0.29329,     0.29429,      0.2953,      0.2963,      0.2973,      0.2983,      0.2993,      0.3003,      0.3013,      0.3023,      0.3033,      0.3043,     0.30531,     0.30631,     0.30731,     0.30831,     0.30931,     0.31031,     0.31131,\n",
       "           0.31231,     0.31331,     0.31431,     0.31532,     0.31632,     0.31732,     0.31832,     0.31932,     0.32032,     0.32132,     0.32232,     0.32332,     0.32432,     0.32533,     0.32633,     0.32733,     0.32833,     0.32933,     0.33033,     0.33133,     0.33233,     0.33333,     0.33433,     0.33534,\n",
       "           0.33634,     0.33734,     0.33834,     0.33934,     0.34034,     0.34134,     0.34234,     0.34334,     0.34434,     0.34535,     0.34635,     0.34735,     0.34835,     0.34935,     0.35035,     0.35135,     0.35235,     0.35335,     0.35435,     0.35536,     0.35636,     0.35736,     0.35836,     0.35936,\n",
       "           0.36036,     0.36136,     0.36236,     0.36336,     0.36436,     0.36537,     0.36637,     0.36737,     0.36837,     0.36937,     0.37037,     0.37137,     0.37237,     0.37337,     0.37437,     0.37538,     0.37638,     0.37738,     0.37838,     0.37938,     0.38038,     0.38138,     0.38238,     0.38338,\n",
       "           0.38438,     0.38539,     0.38639,     0.38739,     0.38839,     0.38939,     0.39039,     0.39139,     0.39239,     0.39339,     0.39439,      0.3954,      0.3964,      0.3974,      0.3984,      0.3994,      0.4004,      0.4014,      0.4024,      0.4034,      0.4044,     0.40541,     0.40641,     0.40741,\n",
       "           0.40841,     0.40941,     0.41041,     0.41141,     0.41241,     0.41341,     0.41441,     0.41542,     0.41642,     0.41742,     0.41842,     0.41942,     0.42042,     0.42142,     0.42242,     0.42342,     0.42442,     0.42543,     0.42643,     0.42743,     0.42843,     0.42943,     0.43043,     0.43143,\n",
       "           0.43243,     0.43343,     0.43443,     0.43544,     0.43644,     0.43744,     0.43844,     0.43944,     0.44044,     0.44144,     0.44244,     0.44344,     0.44444,     0.44545,     0.44645,     0.44745,     0.44845,     0.44945,     0.45045,     0.45145,     0.45245,     0.45345,     0.45445,     0.45546,\n",
       "           0.45646,     0.45746,     0.45846,     0.45946,     0.46046,     0.46146,     0.46246,     0.46346,     0.46446,     0.46547,     0.46647,     0.46747,     0.46847,     0.46947,     0.47047,     0.47147,     0.47247,     0.47347,     0.47447,     0.47548,     0.47648,     0.47748,     0.47848,     0.47948,\n",
       "           0.48048,     0.48148,     0.48248,     0.48348,     0.48448,     0.48549,     0.48649,     0.48749,     0.48849,     0.48949,     0.49049,     0.49149,     0.49249,     0.49349,     0.49449,      0.4955,      0.4965,      0.4975,      0.4985,      0.4995,      0.5005,      0.5015,      0.5025,      0.5035,\n",
       "            0.5045,     0.50551,     0.50651,     0.50751,     0.50851,     0.50951,     0.51051,     0.51151,     0.51251,     0.51351,     0.51451,     0.51552,     0.51652,     0.51752,     0.51852,     0.51952,     0.52052,     0.52152,     0.52252,     0.52352,     0.52452,     0.52553,     0.52653,     0.52753,\n",
       "           0.52853,     0.52953,     0.53053,     0.53153,     0.53253,     0.53353,     0.53453,     0.53554,     0.53654,     0.53754,     0.53854,     0.53954,     0.54054,     0.54154,     0.54254,     0.54354,     0.54454,     0.54555,     0.54655,     0.54755,     0.54855,     0.54955,     0.55055,     0.55155,\n",
       "           0.55255,     0.55355,     0.55455,     0.55556,     0.55656,     0.55756,     0.55856,     0.55956,     0.56056,     0.56156,     0.56256,     0.56356,     0.56456,     0.56557,     0.56657,     0.56757,     0.56857,     0.56957,     0.57057,     0.57157,     0.57257,     0.57357,     0.57457,     0.57558,\n",
       "           0.57658,     0.57758,     0.57858,     0.57958,     0.58058,     0.58158,     0.58258,     0.58358,     0.58458,     0.58559,     0.58659,     0.58759,     0.58859,     0.58959,     0.59059,     0.59159,     0.59259,     0.59359,     0.59459,      0.5956,      0.5966,      0.5976,      0.5986,      0.5996,\n",
       "            0.6006,      0.6016,      0.6026,      0.6036,      0.6046,     0.60561,     0.60661,     0.60761,     0.60861,     0.60961,     0.61061,     0.61161,     0.61261,     0.61361,     0.61461,     0.61562,     0.61662,     0.61762,     0.61862,     0.61962,     0.62062,     0.62162,     0.62262,     0.62362,\n",
       "           0.62462,     0.62563,     0.62663,     0.62763,     0.62863,     0.62963,     0.63063,     0.63163,     0.63263,     0.63363,     0.63463,     0.63564,     0.63664,     0.63764,     0.63864,     0.63964,     0.64064,     0.64164,     0.64264,     0.64364,     0.64464,     0.64565,     0.64665,     0.64765,\n",
       "           0.64865,     0.64965,     0.65065,     0.65165,     0.65265,     0.65365,     0.65465,     0.65566,     0.65666,     0.65766,     0.65866,     0.65966,     0.66066,     0.66166,     0.66266,     0.66366,     0.66466,     0.66567,     0.66667,     0.66767,     0.66867,     0.66967,     0.67067,     0.67167,\n",
       "           0.67267,     0.67367,     0.67467,     0.67568,     0.67668,     0.67768,     0.67868,     0.67968,     0.68068,     0.68168,     0.68268,     0.68368,     0.68468,     0.68569,     0.68669,     0.68769,     0.68869,     0.68969,     0.69069,     0.69169,     0.69269,     0.69369,     0.69469,      0.6957,\n",
       "            0.6967,      0.6977,      0.6987,      0.6997,      0.7007,      0.7017,      0.7027,      0.7037,      0.7047,     0.70571,     0.70671,     0.70771,     0.70871,     0.70971,     0.71071,     0.71171,     0.71271,     0.71371,     0.71471,     0.71572,     0.71672,     0.71772,     0.71872,     0.71972,\n",
       "           0.72072,     0.72172,     0.72272,     0.72372,     0.72472,     0.72573,     0.72673,     0.72773,     0.72873,     0.72973,     0.73073,     0.73173,     0.73273,     0.73373,     0.73473,     0.73574,     0.73674,     0.73774,     0.73874,     0.73974,     0.74074,     0.74174,     0.74274,     0.74374,\n",
       "           0.74474,     0.74575,     0.74675,     0.74775,     0.74875,     0.74975,     0.75075,     0.75175,     0.75275,     0.75375,     0.75475,     0.75576,     0.75676,     0.75776,     0.75876,     0.75976,     0.76076,     0.76176,     0.76276,     0.76376,     0.76476,     0.76577,     0.76677,     0.76777,\n",
       "           0.76877,     0.76977,     0.77077,     0.77177,     0.77277,     0.77377,     0.77477,     0.77578,     0.77678,     0.77778,     0.77878,     0.77978,     0.78078,     0.78178,     0.78278,     0.78378,     0.78478,     0.78579,     0.78679,     0.78779,     0.78879,     0.78979,     0.79079,     0.79179,\n",
       "           0.79279,     0.79379,     0.79479,      0.7958,      0.7968,      0.7978,      0.7988,      0.7998,      0.8008,      0.8018,      0.8028,      0.8038,      0.8048,     0.80581,     0.80681,     0.80781,     0.80881,     0.80981,     0.81081,     0.81181,     0.81281,     0.81381,     0.81481,     0.81582,\n",
       "           0.81682,     0.81782,     0.81882,     0.81982,     0.82082,     0.82182,     0.82282,     0.82382,     0.82482,     0.82583,     0.82683,     0.82783,     0.82883,     0.82983,     0.83083,     0.83183,     0.83283,     0.83383,     0.83483,     0.83584,     0.83684,     0.83784,     0.83884,     0.83984,\n",
       "           0.84084,     0.84184,     0.84284,     0.84384,     0.84484,     0.84585,     0.84685,     0.84785,     0.84885,     0.84985,     0.85085,     0.85185,     0.85285,     0.85385,     0.85485,     0.85586,     0.85686,     0.85786,     0.85886,     0.85986,     0.86086,     0.86186,     0.86286,     0.86386,\n",
       "           0.86486,     0.86587,     0.86687,     0.86787,     0.86887,     0.86987,     0.87087,     0.87187,     0.87287,     0.87387,     0.87487,     0.87588,     0.87688,     0.87788,     0.87888,     0.87988,     0.88088,     0.88188,     0.88288,     0.88388,     0.88488,     0.88589,     0.88689,     0.88789,\n",
       "           0.88889,     0.88989,     0.89089,     0.89189,     0.89289,     0.89389,     0.89489,      0.8959,      0.8969,      0.8979,      0.8989,      0.8999,      0.9009,      0.9019,      0.9029,      0.9039,      0.9049,     0.90591,     0.90691,     0.90791,     0.90891,     0.90991,     0.91091,     0.91191,\n",
       "           0.91291,     0.91391,     0.91491,     0.91592,     0.91692,     0.91792,     0.91892,     0.91992,     0.92092,     0.92192,     0.92292,     0.92392,     0.92492,     0.92593,     0.92693,     0.92793,     0.92893,     0.92993,     0.93093,     0.93193,     0.93293,     0.93393,     0.93493,     0.93594,\n",
       "           0.93694,     0.93794,     0.93894,     0.93994,     0.94094,     0.94194,     0.94294,     0.94394,     0.94494,     0.94595,     0.94695,     0.94795,     0.94895,     0.94995,     0.95095,     0.95195,     0.95295,     0.95395,     0.95495,     0.95596,     0.95696,     0.95796,     0.95896,     0.95996,\n",
       "           0.96096,     0.96196,     0.96296,     0.96396,     0.96496,     0.96597,     0.96697,     0.96797,     0.96897,     0.96997,     0.97097,     0.97197,     0.97297,     0.97397,     0.97497,     0.97598,     0.97698,     0.97798,     0.97898,     0.97998,     0.98098,     0.98198,     0.98298,     0.98398,\n",
       "           0.98498,     0.98599,     0.98699,     0.98799,     0.98899,     0.98999,     0.99099,     0.99199,     0.99299,     0.99399,     0.99499,       0.996,       0.997,       0.998,       0.999,           1]), array([[   0.045935,    0.045935,    0.058085, ...,           1,           1,           1],\n",
       "       [   0.026664,    0.026664,    0.066003, ...,           1,           1,           1],\n",
       "       [   0.018051,    0.018051,    0.031563, ...,           1,           1,           1],\n",
       "       ...,\n",
       "       [    0.01101,     0.01101,     0.01813, ...,           1,           1,           1],\n",
       "       [  0.0076266,   0.0076266,    0.018834, ...,           1,           1,           1],\n",
       "       [  0.0051409,   0.0051409,    0.012687, ...,           1,           1,           1]]), 'Confidence', 'Precision'], [array([          0,    0.001001,    0.002002,    0.003003,    0.004004,    0.005005,    0.006006,    0.007007,    0.008008,    0.009009,     0.01001,    0.011011,    0.012012,    0.013013,    0.014014,    0.015015,    0.016016,    0.017017,    0.018018,    0.019019,     0.02002,    0.021021,    0.022022,    0.023023,\n",
       "          0.024024,    0.025025,    0.026026,    0.027027,    0.028028,    0.029029,     0.03003,    0.031031,    0.032032,    0.033033,    0.034034,    0.035035,    0.036036,    0.037037,    0.038038,    0.039039,     0.04004,    0.041041,    0.042042,    0.043043,    0.044044,    0.045045,    0.046046,    0.047047,\n",
       "          0.048048,    0.049049,     0.05005,    0.051051,    0.052052,    0.053053,    0.054054,    0.055055,    0.056056,    0.057057,    0.058058,    0.059059,     0.06006,    0.061061,    0.062062,    0.063063,    0.064064,    0.065065,    0.066066,    0.067067,    0.068068,    0.069069,     0.07007,    0.071071,\n",
       "          0.072072,    0.073073,    0.074074,    0.075075,    0.076076,    0.077077,    0.078078,    0.079079,     0.08008,    0.081081,    0.082082,    0.083083,    0.084084,    0.085085,    0.086086,    0.087087,    0.088088,    0.089089,     0.09009,    0.091091,    0.092092,    0.093093,    0.094094,    0.095095,\n",
       "          0.096096,    0.097097,    0.098098,    0.099099,      0.1001,      0.1011,      0.1021,      0.1031,      0.1041,     0.10511,     0.10611,     0.10711,     0.10811,     0.10911,     0.11011,     0.11111,     0.11211,     0.11311,     0.11411,     0.11512,     0.11612,     0.11712,     0.11812,     0.11912,\n",
       "           0.12012,     0.12112,     0.12212,     0.12312,     0.12412,     0.12513,     0.12613,     0.12713,     0.12813,     0.12913,     0.13013,     0.13113,     0.13213,     0.13313,     0.13413,     0.13514,     0.13614,     0.13714,     0.13814,     0.13914,     0.14014,     0.14114,     0.14214,     0.14314,\n",
       "           0.14414,     0.14515,     0.14615,     0.14715,     0.14815,     0.14915,     0.15015,     0.15115,     0.15215,     0.15315,     0.15415,     0.15516,     0.15616,     0.15716,     0.15816,     0.15916,     0.16016,     0.16116,     0.16216,     0.16316,     0.16416,     0.16517,     0.16617,     0.16717,\n",
       "           0.16817,     0.16917,     0.17017,     0.17117,     0.17217,     0.17317,     0.17417,     0.17518,     0.17618,     0.17718,     0.17818,     0.17918,     0.18018,     0.18118,     0.18218,     0.18318,     0.18418,     0.18519,     0.18619,     0.18719,     0.18819,     0.18919,     0.19019,     0.19119,\n",
       "           0.19219,     0.19319,     0.19419,      0.1952,      0.1962,      0.1972,      0.1982,      0.1992,      0.2002,      0.2012,      0.2022,      0.2032,      0.2042,     0.20521,     0.20621,     0.20721,     0.20821,     0.20921,     0.21021,     0.21121,     0.21221,     0.21321,     0.21421,     0.21522,\n",
       "           0.21622,     0.21722,     0.21822,     0.21922,     0.22022,     0.22122,     0.22222,     0.22322,     0.22422,     0.22523,     0.22623,     0.22723,     0.22823,     0.22923,     0.23023,     0.23123,     0.23223,     0.23323,     0.23423,     0.23524,     0.23624,     0.23724,     0.23824,     0.23924,\n",
       "           0.24024,     0.24124,     0.24224,     0.24324,     0.24424,     0.24525,     0.24625,     0.24725,     0.24825,     0.24925,     0.25025,     0.25125,     0.25225,     0.25325,     0.25425,     0.25526,     0.25626,     0.25726,     0.25826,     0.25926,     0.26026,     0.26126,     0.26226,     0.26326,\n",
       "           0.26426,     0.26527,     0.26627,     0.26727,     0.26827,     0.26927,     0.27027,     0.27127,     0.27227,     0.27327,     0.27427,     0.27528,     0.27628,     0.27728,     0.27828,     0.27928,     0.28028,     0.28128,     0.28228,     0.28328,     0.28428,     0.28529,     0.28629,     0.28729,\n",
       "           0.28829,     0.28929,     0.29029,     0.29129,     0.29229,     0.29329,     0.29429,      0.2953,      0.2963,      0.2973,      0.2983,      0.2993,      0.3003,      0.3013,      0.3023,      0.3033,      0.3043,     0.30531,     0.30631,     0.30731,     0.30831,     0.30931,     0.31031,     0.31131,\n",
       "           0.31231,     0.31331,     0.31431,     0.31532,     0.31632,     0.31732,     0.31832,     0.31932,     0.32032,     0.32132,     0.32232,     0.32332,     0.32432,     0.32533,     0.32633,     0.32733,     0.32833,     0.32933,     0.33033,     0.33133,     0.33233,     0.33333,     0.33433,     0.33534,\n",
       "           0.33634,     0.33734,     0.33834,     0.33934,     0.34034,     0.34134,     0.34234,     0.34334,     0.34434,     0.34535,     0.34635,     0.34735,     0.34835,     0.34935,     0.35035,     0.35135,     0.35235,     0.35335,     0.35435,     0.35536,     0.35636,     0.35736,     0.35836,     0.35936,\n",
       "           0.36036,     0.36136,     0.36236,     0.36336,     0.36436,     0.36537,     0.36637,     0.36737,     0.36837,     0.36937,     0.37037,     0.37137,     0.37237,     0.37337,     0.37437,     0.37538,     0.37638,     0.37738,     0.37838,     0.37938,     0.38038,     0.38138,     0.38238,     0.38338,\n",
       "           0.38438,     0.38539,     0.38639,     0.38739,     0.38839,     0.38939,     0.39039,     0.39139,     0.39239,     0.39339,     0.39439,      0.3954,      0.3964,      0.3974,      0.3984,      0.3994,      0.4004,      0.4014,      0.4024,      0.4034,      0.4044,     0.40541,     0.40641,     0.40741,\n",
       "           0.40841,     0.40941,     0.41041,     0.41141,     0.41241,     0.41341,     0.41441,     0.41542,     0.41642,     0.41742,     0.41842,     0.41942,     0.42042,     0.42142,     0.42242,     0.42342,     0.42442,     0.42543,     0.42643,     0.42743,     0.42843,     0.42943,     0.43043,     0.43143,\n",
       "           0.43243,     0.43343,     0.43443,     0.43544,     0.43644,     0.43744,     0.43844,     0.43944,     0.44044,     0.44144,     0.44244,     0.44344,     0.44444,     0.44545,     0.44645,     0.44745,     0.44845,     0.44945,     0.45045,     0.45145,     0.45245,     0.45345,     0.45445,     0.45546,\n",
       "           0.45646,     0.45746,     0.45846,     0.45946,     0.46046,     0.46146,     0.46246,     0.46346,     0.46446,     0.46547,     0.46647,     0.46747,     0.46847,     0.46947,     0.47047,     0.47147,     0.47247,     0.47347,     0.47447,     0.47548,     0.47648,     0.47748,     0.47848,     0.47948,\n",
       "           0.48048,     0.48148,     0.48248,     0.48348,     0.48448,     0.48549,     0.48649,     0.48749,     0.48849,     0.48949,     0.49049,     0.49149,     0.49249,     0.49349,     0.49449,      0.4955,      0.4965,      0.4975,      0.4985,      0.4995,      0.5005,      0.5015,      0.5025,      0.5035,\n",
       "            0.5045,     0.50551,     0.50651,     0.50751,     0.50851,     0.50951,     0.51051,     0.51151,     0.51251,     0.51351,     0.51451,     0.51552,     0.51652,     0.51752,     0.51852,     0.51952,     0.52052,     0.52152,     0.52252,     0.52352,     0.52452,     0.52553,     0.52653,     0.52753,\n",
       "           0.52853,     0.52953,     0.53053,     0.53153,     0.53253,     0.53353,     0.53453,     0.53554,     0.53654,     0.53754,     0.53854,     0.53954,     0.54054,     0.54154,     0.54254,     0.54354,     0.54454,     0.54555,     0.54655,     0.54755,     0.54855,     0.54955,     0.55055,     0.55155,\n",
       "           0.55255,     0.55355,     0.55455,     0.55556,     0.55656,     0.55756,     0.55856,     0.55956,     0.56056,     0.56156,     0.56256,     0.56356,     0.56456,     0.56557,     0.56657,     0.56757,     0.56857,     0.56957,     0.57057,     0.57157,     0.57257,     0.57357,     0.57457,     0.57558,\n",
       "           0.57658,     0.57758,     0.57858,     0.57958,     0.58058,     0.58158,     0.58258,     0.58358,     0.58458,     0.58559,     0.58659,     0.58759,     0.58859,     0.58959,     0.59059,     0.59159,     0.59259,     0.59359,     0.59459,      0.5956,      0.5966,      0.5976,      0.5986,      0.5996,\n",
       "            0.6006,      0.6016,      0.6026,      0.6036,      0.6046,     0.60561,     0.60661,     0.60761,     0.60861,     0.60961,     0.61061,     0.61161,     0.61261,     0.61361,     0.61461,     0.61562,     0.61662,     0.61762,     0.61862,     0.61962,     0.62062,     0.62162,     0.62262,     0.62362,\n",
       "           0.62462,     0.62563,     0.62663,     0.62763,     0.62863,     0.62963,     0.63063,     0.63163,     0.63263,     0.63363,     0.63463,     0.63564,     0.63664,     0.63764,     0.63864,     0.63964,     0.64064,     0.64164,     0.64264,     0.64364,     0.64464,     0.64565,     0.64665,     0.64765,\n",
       "           0.64865,     0.64965,     0.65065,     0.65165,     0.65265,     0.65365,     0.65465,     0.65566,     0.65666,     0.65766,     0.65866,     0.65966,     0.66066,     0.66166,     0.66266,     0.66366,     0.66466,     0.66567,     0.66667,     0.66767,     0.66867,     0.66967,     0.67067,     0.67167,\n",
       "           0.67267,     0.67367,     0.67467,     0.67568,     0.67668,     0.67768,     0.67868,     0.67968,     0.68068,     0.68168,     0.68268,     0.68368,     0.68468,     0.68569,     0.68669,     0.68769,     0.68869,     0.68969,     0.69069,     0.69169,     0.69269,     0.69369,     0.69469,      0.6957,\n",
       "            0.6967,      0.6977,      0.6987,      0.6997,      0.7007,      0.7017,      0.7027,      0.7037,      0.7047,     0.70571,     0.70671,     0.70771,     0.70871,     0.70971,     0.71071,     0.71171,     0.71271,     0.71371,     0.71471,     0.71572,     0.71672,     0.71772,     0.71872,     0.71972,\n",
       "           0.72072,     0.72172,     0.72272,     0.72372,     0.72472,     0.72573,     0.72673,     0.72773,     0.72873,     0.72973,     0.73073,     0.73173,     0.73273,     0.73373,     0.73473,     0.73574,     0.73674,     0.73774,     0.73874,     0.73974,     0.74074,     0.74174,     0.74274,     0.74374,\n",
       "           0.74474,     0.74575,     0.74675,     0.74775,     0.74875,     0.74975,     0.75075,     0.75175,     0.75275,     0.75375,     0.75475,     0.75576,     0.75676,     0.75776,     0.75876,     0.75976,     0.76076,     0.76176,     0.76276,     0.76376,     0.76476,     0.76577,     0.76677,     0.76777,\n",
       "           0.76877,     0.76977,     0.77077,     0.77177,     0.77277,     0.77377,     0.77477,     0.77578,     0.77678,     0.77778,     0.77878,     0.77978,     0.78078,     0.78178,     0.78278,     0.78378,     0.78478,     0.78579,     0.78679,     0.78779,     0.78879,     0.78979,     0.79079,     0.79179,\n",
       "           0.79279,     0.79379,     0.79479,      0.7958,      0.7968,      0.7978,      0.7988,      0.7998,      0.8008,      0.8018,      0.8028,      0.8038,      0.8048,     0.80581,     0.80681,     0.80781,     0.80881,     0.80981,     0.81081,     0.81181,     0.81281,     0.81381,     0.81481,     0.81582,\n",
       "           0.81682,     0.81782,     0.81882,     0.81982,     0.82082,     0.82182,     0.82282,     0.82382,     0.82482,     0.82583,     0.82683,     0.82783,     0.82883,     0.82983,     0.83083,     0.83183,     0.83283,     0.83383,     0.83483,     0.83584,     0.83684,     0.83784,     0.83884,     0.83984,\n",
       "           0.84084,     0.84184,     0.84284,     0.84384,     0.84484,     0.84585,     0.84685,     0.84785,     0.84885,     0.84985,     0.85085,     0.85185,     0.85285,     0.85385,     0.85485,     0.85586,     0.85686,     0.85786,     0.85886,     0.85986,     0.86086,     0.86186,     0.86286,     0.86386,\n",
       "           0.86486,     0.86587,     0.86687,     0.86787,     0.86887,     0.86987,     0.87087,     0.87187,     0.87287,     0.87387,     0.87487,     0.87588,     0.87688,     0.87788,     0.87888,     0.87988,     0.88088,     0.88188,     0.88288,     0.88388,     0.88488,     0.88589,     0.88689,     0.88789,\n",
       "           0.88889,     0.88989,     0.89089,     0.89189,     0.89289,     0.89389,     0.89489,      0.8959,      0.8969,      0.8979,      0.8989,      0.8999,      0.9009,      0.9019,      0.9029,      0.9039,      0.9049,     0.90591,     0.90691,     0.90791,     0.90891,     0.90991,     0.91091,     0.91191,\n",
       "           0.91291,     0.91391,     0.91491,     0.91592,     0.91692,     0.91792,     0.91892,     0.91992,     0.92092,     0.92192,     0.92292,     0.92392,     0.92492,     0.92593,     0.92693,     0.92793,     0.92893,     0.92993,     0.93093,     0.93193,     0.93293,     0.93393,     0.93493,     0.93594,\n",
       "           0.93694,     0.93794,     0.93894,     0.93994,     0.94094,     0.94194,     0.94294,     0.94394,     0.94494,     0.94595,     0.94695,     0.94795,     0.94895,     0.94995,     0.95095,     0.95195,     0.95295,     0.95395,     0.95495,     0.95596,     0.95696,     0.95796,     0.95896,     0.95996,\n",
       "           0.96096,     0.96196,     0.96296,     0.96396,     0.96496,     0.96597,     0.96697,     0.96797,     0.96897,     0.96997,     0.97097,     0.97197,     0.97297,     0.97397,     0.97497,     0.97598,     0.97698,     0.97798,     0.97898,     0.97998,     0.98098,     0.98198,     0.98298,     0.98398,\n",
       "           0.98498,     0.98599,     0.98699,     0.98799,     0.98899,     0.98999,     0.99099,     0.99199,     0.99299,     0.99399,     0.99499,       0.996,       0.997,       0.998,       0.999,           1]), array([[    0.89978,     0.89978,      0.8976, ...,           0,           0,           0],\n",
       "       [     0.9871,      0.9871,      0.9871, ...,           0,           0,           0],\n",
       "       [    0.84615,     0.84615,     0.84615, ...,           0,           0,           0],\n",
       "       ...,\n",
       "       [    0.89474,     0.89474,     0.89474, ...,           0,           0,           0],\n",
       "       [    0.92593,     0.92593,     0.81481, ...,           0,           0,           0],\n",
       "       [    0.81818,     0.81818,     0.81818, ...,           0,           0,           0]]), 'Confidence', 'Recall']]\n",
       "fitness: 0.32012349352660224\n",
       "keys: ['metrics/precision(B)', 'metrics/recall(B)', 'metrics/mAP50(B)', 'metrics/mAP50-95(B)']\n",
       "maps: array([    0.30809,     0.48261,     0.19365,     0.11394,     0.26468,     0.28581,      0.4233])\n",
       "names: {0: 'fish', 1: 'jellyfish', 2: 'penguin', 3: 'puffin', 4: 'shark', 5: 'starfish', 6: 'stingray'}\n",
       "plot: True\n",
       "results_dict: {'metrics/precision(B)': 0.6523211771929348, 'metrics/recall(B)': 0.4907454829243541, 'metrics/mAP50(B)': 0.5371236388006665, 'metrics/mAP50-95(B)': 0.2960123662739284, 'fitness': 0.32012349352660224}\n",
       "save_dir: WindowsPath('runs/detect/train')\n",
       "speed: {'preprocess': 0.09455643300935039, 'inference': 1.6941104348250262, 'loss': 0.0, 'postprocess': 1.140046307421106}\n",
       "task: 'detect'"
      ]
     },
     "execution_count": 5,
     "metadata": {},
     "output_type": "execute_result"
    }
   ],
   "source": [
    "model.train(data='Aquarium_Data.yaml', epochs=10, patience=30, batch=32, imgsz=416, workers=0)"
   ]
  },
  {
   "cell_type": "code",
   "execution_count": 6,
   "metadata": {
    "colab": {
     "base_uri": "https://localhost:8080/"
    },
    "id": "rU4hUb6aRMu5",
    "outputId": "eadad40e-bba1-4bff-accc-fae77e395604"
   },
   "outputs": [
    {
     "name": "stdout",
     "output_type": "stream",
     "text": [
      "<class 'dict'> 7\n",
      "{0: 'fish', 1: 'jellyfish', 2: 'penguin', 3: 'puffin', 4: 'shark', 5: 'starfish', 6: 'stingray'}\n"
     ]
    }
   ],
   "source": [
    "print(type(model.names), len(model.names))\n",
    "\n",
    "print(model.names)"
   ]
  },
  {
   "cell_type": "markdown",
   "metadata": {
    "id": "PGvvaF60Fp2U"
   },
   "source": [
    "### Test데이터 생성 및 확인"
   ]
  },
  {
   "cell_type": "code",
   "execution_count": 7,
   "metadata": {
    "colab": {
     "base_uri": "https://localhost:8080/"
    },
    "id": "QknTB5poU_3-",
    "outputId": "87569e55-5e44-459e-8758-f7a1134a2644"
   },
   "outputs": [
    {
     "name": "stdout",
     "output_type": "stream",
     "text": [
      "63\n",
      "i =  0 datasets/test/images\\IMG_2289_jpeg_jpg.rf.fe2a7a149e7b11f2313f5a7b30386e85.jpg\n",
      "i =  1 datasets/test/images\\IMG_2301_jpeg_jpg.rf.2c19ae5efbd1f8611b5578125f001695.jpg\n",
      "i =  2 datasets/test/images\\IMG_2319_jpeg_jpg.rf.6e20bf97d17b74a8948aa48776c40454.jpg\n",
      "i =  3 datasets/test/images\\IMG_2347_jpeg_jpg.rf.7c71ac4b9301eb358cd4a832844dedcb.jpg\n",
      "i =  4 datasets/test/images\\IMG_2354_jpeg_jpg.rf.396e872c7fb0a95e911806986995ee7a.jpg\n",
      "i =  5 datasets/test/images\\IMG_2371_jpeg_jpg.rf.54505f60b6706da151c164188c305849.jpg\n",
      "i =  6 datasets/test/images\\IMG_2379_jpeg_jpg.rf.7dc3160c937072d26d4624c6c48e904d.jpg\n",
      "i =  7 datasets/test/images\\IMG_2380_jpeg_jpg.rf.a23809682eb1466c1136ca0f55de8fb5.jpg\n",
      "i =  8 datasets/test/images\\IMG_2387_jpeg_jpg.rf.09b38bacfab0922a3a6b66480f01b719.jpg\n",
      "i =  9 datasets/test/images\\IMG_2395_jpeg_jpg.rf.9f1503ad3b7a7c7938daed057cc4e9bc.jpg\n",
      "i =  10 datasets/test/images\\IMG_2423_jpeg_jpg.rf.1c0901882e71d5ebd26f036f4e22da65.jpg\n",
      "i =  11 datasets/test/images\\IMG_2434_jpeg_jpg.rf.8b20d3270d4fbc497c64125273f46ecb.jpg\n",
      "i =  12 datasets/test/images\\IMG_2446_jpeg_jpg.rf.06ee05e92df8e3c33073147d8f595211.jpg\n",
      "i =  13 datasets/test/images\\IMG_2448_jpeg_jpg.rf.28ce79dab47ad525751d5407be09bc3d.jpg\n",
      "i =  14 datasets/test/images\\IMG_2450_jpeg_jpg.rf.ff673921373de3bfc275863e3befeefe.jpg\n",
      "i =  15 datasets/test/images\\IMG_2465_jpeg_jpg.rf.7e699ec1d2e373d93dac32cd02db9438.jpg\n",
      "i =  16 datasets/test/images\\IMG_2466_jpeg_jpg.rf.53886abb9947ec4e47405957b30fe314.jpg\n",
      "i =  17 datasets/test/images\\IMG_2468_jpeg_jpg.rf.c933cc14c99b11a90413a1490d4556db.jpg\n",
      "i =  18 datasets/test/images\\IMG_2470_jpeg_jpg.rf.75b359c8baa6866bfecf07a0e4e8c33d.jpg\n",
      "i =  19 datasets/test/images\\IMG_2473_jpeg_jpg.rf.6284677f9c781b0cfeec54981a17d573.jpg\n",
      "i =  20 datasets/test/images\\IMG_2477_jpeg_jpg.rf.7b2692f142d53c16ad477065f1f8ae6d.jpg\n",
      "i =  21 datasets/test/images\\IMG_2496_jpeg_jpg.rf.3f91e7f18502074c89fa720a11926fab.jpg\n",
      "i =  22 datasets/test/images\\IMG_2499_jpeg_jpg.rf.6cbab3719b9063388b5ab3ab826d7bd3.jpg\n",
      "i =  23 datasets/test/images\\IMG_2514_jpeg_jpg.rf.6ccb3859d75fc5cfe053b1c1474254b2.jpg\n",
      "i =  24 datasets/test/images\\IMG_2526_jpeg_jpg.rf.003e1d1d41bcd204df731b85cea68781.jpg\n",
      "i =  25 datasets/test/images\\IMG_2532_jpeg_jpg.rf.2afeb76e5d9372dbbd6fbc53d5b75675.jpg\n",
      "i =  26 datasets/test/images\\IMG_2544_jpeg_jpg.rf.03f51bb9e1c57fb9cd62f8cbdca14e90.jpg\n",
      "i =  27 datasets/test/images\\IMG_2547_jpeg_jpg.rf.9406b6f1a9fad2292c4abd28f712baaf.jpg\n",
      "i =  28 datasets/test/images\\IMG_2570_jpeg_jpg.rf.ed40900b657a5b23d92cb2d296ad2dbc.jpg\n",
      "i =  29 datasets/test/images\\IMG_2574_jpeg_jpg.rf.ca0c3ad32384309a61e92d9a8bef87b9.jpg\n",
      "i =  30 datasets/test/images\\IMG_2582_jpeg_jpg.rf.14f175066ce74b470bf31fa0c7a096cd.jpg\n",
      "i =  31 datasets/test/images\\IMG_2588_jpeg_jpg.rf.cb9cea8f05891cfd55a3e93f2908201f.jpg\n",
      "i =  32 datasets/test/images\\IMG_2630_jpeg_jpg.rf.310f0c986a72be46b80ce31c2d00e46d.jpg\n",
      "i =  33 datasets/test/images\\IMG_2632_jpeg_jpg.rf.f44037edca490b16cbf06427e28ea946.jpg\n",
      "i =  34 datasets/test/images\\IMG_2651_jpeg_jpg.rf.84b3930aa80b610cc97bf1c176763940.jpg\n",
      "i =  35 datasets/test/images\\IMG_3129_jpeg_jpg.rf.90c472dcdf9b6713ec767cc97560ceca.jpg\n",
      "i =  36 datasets/test/images\\IMG_3134_jpeg_jpg.rf.50750ca778773042a3c46a1d3e480132.jpg\n",
      "i =  37 datasets/test/images\\IMG_3136_jpeg_jpg.rf.0d8fef73d4cc5e1c35ce424444d9e44b.jpg\n",
      "i =  38 datasets/test/images\\IMG_3144_jpeg_jpg.rf.f29a36360174dc83ecef93275ed8f02e.jpg\n",
      "i =  39 datasets/test/images\\IMG_3154_jpeg_jpg.rf.5f429a366c02d38bc9e2217f4508c3e0.jpg\n",
      "i =  40 datasets/test/images\\IMG_3164_jpeg_jpg.rf.06637eee0b72df791aa729807ca45c4d.jpg\n",
      "i =  41 datasets/test/images\\IMG_3173_jpeg_jpg.rf.6f05acaa0b22d410a5df3ea3286e227d.jpg\n",
      "i =  42 datasets/test/images\\IMG_3175_jpeg_jpg.rf.686c7d36e049eea974a363e99bf0bee0.jpg\n",
      "i =  43 datasets/test/images\\IMG_8331_jpg.rf.ec024bdf1e9de02b020b5e6505c1c58b.jpg\n",
      "i =  44 datasets/test/images\\IMG_8343_jpg.rf.2d88000497d74d72aedc118b125a0c07.jpg\n",
      "i =  45 datasets/test/images\\IMG_8395_jpg.rf.3bebece033961c9f665571644a14261f.jpg\n",
      "i =  46 datasets/test/images\\IMG_8396_jpg.rf.106a6ced5c649ea81f0de8ecaa4ff3b8.jpg\n",
      "i =  47 datasets/test/images\\IMG_8404_jpg.rf.265b89e862a375f6b89f781ea60ed480.jpg\n",
      "i =  48 datasets/test/images\\IMG_8420_jpg.rf.31f1d5f1440e48ccf1dee988b565911b.jpg\n",
      "i =  49 datasets/test/images\\IMG_8452_jpg.rf.6bbff701ab93e29553b3a70137fd4e66.jpg\n",
      "i =  50 datasets/test/images\\IMG_8490_jpg.rf.1836542cf054c6d303a2dd05d4194d7f.jpg\n",
      "i =  51 datasets/test/images\\IMG_8497_MOV-0_jpg.rf.5c59bd1bf7d8fd7a20999d51a79a12c0.jpg\n",
      "i =  52 datasets/test/images\\IMG_8497_MOV-3_jpg.rf.fd813e14681c8b41e709a500748ce46a.jpg\n",
      "i =  53 datasets/test/images\\IMG_8497_MOV-5_jpg.rf.3deffb208d656b7845661c5e33dd1afb.jpg\n",
      "i =  54 datasets/test/images\\IMG_8513_MOV-0_jpg.rf.2a2f77e3f73630b60aaf6ad3ca4ed130.jpg\n",
      "i =  55 datasets/test/images\\IMG_8515_jpg.rf.98a9daca7c5a5bad9872bd7fb2d4f198.jpg\n",
      "i =  56 datasets/test/images\\IMG_8582_MOV-0_jpg.rf.aa8304d7a5112d63c8841d96160d42cd.jpg\n",
      "i =  57 datasets/test/images\\IMG_8582_MOV-3_jpg.rf.c7dde0639837077f76428d70223368a4.jpg\n",
      "i =  58 datasets/test/images\\IMG_8582_MOV-5_jpg.rf.9d7a26fbf145ce39ab0831b4e6bc1f1e.jpg\n",
      "i =  59 datasets/test/images\\IMG_8590_MOV-2_jpg.rf.2136fdb5dcbcd58a1dc456bb3e5bf476.jpg\n",
      "i =  60 datasets/test/images\\IMG_8590_MOV-5_jpg.rf.074e6d8acdd3fcad16d866c341b43769.jpg\n",
      "i =  61 datasets/test/images\\IMG_8595_MOV-0_jpg.rf.312ab0b8b9fca18134aee88044f45a06.jpg\n",
      "i =  62 datasets/test/images\\IMG_8599_MOV-3_jpg.rf.412ebb16ea80e964b4464c50e757df0e.jpg\n"
     ]
    }
   ],
   "source": [
    "# 테스트 이미지\n",
    "\n",
    "from glob import glob\n",
    "\n",
    "test_image_list = glob('datasets/test/images/*')\n",
    "\n",
    "print(len(test_image_list))\n",
    "\n",
    "test_image_list.sort()\n",
    "\n",
    "for i in range(len(test_image_list)):\n",
    "\n",
    "    print('i = ',i, test_image_list[i])"
   ]
  },
  {
   "cell_type": "markdown",
   "metadata": {
    "id": "cKdlujLuFxui"
   },
   "source": [
    "### 추론"
   ]
  },
  {
   "cell_type": "code",
   "execution_count": 8,
   "metadata": {},
   "outputs": [],
   "source": [
    "model = YOLO('runs/detect/train/weights/best.pt')    "
   ]
  },
  {
   "cell_type": "markdown",
   "metadata": {},
   "source": [
    "#### 간단한 예제 이미지 inference"
   ]
  },
  {
   "cell_type": "code",
   "execution_count": 14,
   "metadata": {},
   "outputs": [
    {
     "name": "stdout",
     "output_type": "stream",
     "text": [
      "\n",
      "image 1/1 c:\\BigJoo\\study\\yolov8\\puffin.jpg: 288x416 1 puffin, 231.8ms\n",
      "Speed: 3.5ms preprocess, 231.8ms inference, 1.0ms postprocess per image at shape (1, 3, 288, 416)\n",
      "Results saved to \u001b[1mruns\\detect\\predict\u001b[0m\n"
     ]
    },
    {
     "data": {
      "text/plain": [
       "[ultralytics.engine.results.Results object with attributes:\n",
       " \n",
       " boxes: ultralytics.engine.results.Boxes object\n",
       " keypoints: None\n",
       " masks: None\n",
       " names: {0: 'fish', 1: 'jellyfish', 2: 'penguin', 3: 'puffin', 4: 'shark', 5: 'starfish', 6: 'stingray'}\n",
       " obb: None\n",
       " orig_img: array([[[179, 163, 146],\n",
       "         [179, 163, 146],\n",
       "         [179, 163, 146],\n",
       "         ...,\n",
       "         [176, 164, 146],\n",
       "         [174, 164, 146],\n",
       "         [174, 164, 146]],\n",
       " \n",
       "        [[178, 162, 145],\n",
       "         [178, 162, 145],\n",
       "         [179, 163, 146],\n",
       "         ...,\n",
       "         [177, 165, 147],\n",
       "         [175, 165, 147],\n",
       "         [175, 165, 147]],\n",
       " \n",
       "        [[177, 161, 144],\n",
       "         [178, 162, 145],\n",
       "         [178, 162, 145],\n",
       "         ...,\n",
       "         [177, 165, 147],\n",
       "         [177, 165, 147],\n",
       "         [177, 165, 147]],\n",
       " \n",
       "        ...,\n",
       " \n",
       "        [[136, 120, 103],\n",
       "         [136, 120, 103],\n",
       "         [137, 121, 104],\n",
       "         ...,\n",
       "         [138, 179, 201],\n",
       "         [140, 183, 204],\n",
       "         [144, 187, 208]],\n",
       " \n",
       "        [[137, 121, 104],\n",
       "         [137, 121, 104],\n",
       "         [137, 121, 104],\n",
       "         ...,\n",
       "         [153, 196, 217],\n",
       "         [150, 197, 218],\n",
       "         [152, 199, 220]],\n",
       " \n",
       "        [[137, 121, 104],\n",
       "         [137, 121, 104],\n",
       "         [137, 121, 104],\n",
       "         ...,\n",
       "         [136, 181, 202],\n",
       "         [131, 181, 201],\n",
       "         [129, 179, 199]]], dtype=uint8)\n",
       " orig_shape: (183, 275)\n",
       " path: 'c:\\\\BigJoo\\\\study\\\\yolov8\\\\puffin.jpg'\n",
       " probs: None\n",
       " save_dir: 'runs\\\\detect\\\\predict'\n",
       " speed: {'preprocess': 3.507852554321289, 'inference': 231.78339004516602, 'postprocess': 0.9999275207519531}]"
      ]
     },
     "execution_count": 14,
     "metadata": {},
     "output_type": "execute_result"
    }
   ],
   "source": [
    "# source 에는 예측을 원하는 파일 경로\n",
    "model.predict(source=\"puffin.jpg\", save=True, conf=0.5, show=False)"
   ]
  },
  {
   "cell_type": "markdown",
   "metadata": {},
   "source": [
    "### Test데이터 inference"
   ]
  },
  {
   "cell_type": "code",
   "execution_count": 9,
   "metadata": {
    "colab": {
     "base_uri": "https://localhost:8080/"
    },
    "id": "Iy_75ZcSU_4E",
    "outputId": "3dfd18ab-f003-4a1c-b040-2bfc3f15e53e"
   },
   "outputs": [
    {
     "name": "stdout",
     "output_type": "stream",
     "text": [
      "\n",
      "image 1/63 c:\\BigJoo\\study\\yolov8\\datasets\\test\\images\\IMG_2289_jpeg_jpg.rf.fe2a7a149e7b11f2313f5a7b30386e85.jpg: 416x320 1 puffin, 84.3ms\n",
      "image 2/63 c:\\BigJoo\\study\\yolov8\\datasets\\test\\images\\IMG_2301_jpeg_jpg.rf.2c19ae5efbd1f8611b5578125f001695.jpg: 416x320 7 penguins, 7.5ms\n",
      "image 3/63 c:\\BigJoo\\study\\yolov8\\datasets\\test\\images\\IMG_2319_jpeg_jpg.rf.6e20bf97d17b74a8948aa48776c40454.jpg: 416x320 6 penguins, 8.5ms\n",
      "image 4/63 c:\\BigJoo\\study\\yolov8\\datasets\\test\\images\\IMG_2347_jpeg_jpg.rf.7c71ac4b9301eb358cd4a832844dedcb.jpg: 416x320 1 penguin, 7.4ms\n",
      "image 5/63 c:\\BigJoo\\study\\yolov8\\datasets\\test\\images\\IMG_2354_jpeg_jpg.rf.396e872c7fb0a95e911806986995ee7a.jpg: 416x320 4 penguins, 8.3ms\n",
      "image 6/63 c:\\BigJoo\\study\\yolov8\\datasets\\test\\images\\IMG_2371_jpeg_jpg.rf.54505f60b6706da151c164188c305849.jpg: 416x320 3 fishs, 4.0ms\n",
      "image 7/63 c:\\BigJoo\\study\\yolov8\\datasets\\test\\images\\IMG_2379_jpeg_jpg.rf.7dc3160c937072d26d4624c6c48e904d.jpg: 416x320 1 fish, 6.5ms\n",
      "image 8/63 c:\\BigJoo\\study\\yolov8\\datasets\\test\\images\\IMG_2380_jpeg_jpg.rf.a23809682eb1466c1136ca0f55de8fb5.jpg: 416x320 5 fishs, 6.0ms\n",
      "image 9/63 c:\\BigJoo\\study\\yolov8\\datasets\\test\\images\\IMG_2387_jpeg_jpg.rf.09b38bacfab0922a3a6b66480f01b719.jpg: 416x320 1 starfish, 5.0ms\n",
      "image 10/63 c:\\BigJoo\\study\\yolov8\\datasets\\test\\images\\IMG_2395_jpeg_jpg.rf.9f1503ad3b7a7c7938daed057cc4e9bc.jpg: 416x320 4 fishs, 5.0ms\n",
      "image 11/63 c:\\BigJoo\\study\\yolov8\\datasets\\test\\images\\IMG_2423_jpeg_jpg.rf.1c0901882e71d5ebd26f036f4e22da65.jpg: 416x320 14 fishs, 3 sharks, 6.3ms\n",
      "image 12/63 c:\\BigJoo\\study\\yolov8\\datasets\\test\\images\\IMG_2434_jpeg_jpg.rf.8b20d3270d4fbc497c64125273f46ecb.jpg: 416x320 4 fishs, 1 shark, 6.0ms\n",
      "image 13/63 c:\\BigJoo\\study\\yolov8\\datasets\\test\\images\\IMG_2446_jpeg_jpg.rf.06ee05e92df8e3c33073147d8f595211.jpg: 416x320 5 fishs, 2 sharks, 9.5ms\n",
      "image 14/63 c:\\BigJoo\\study\\yolov8\\datasets\\test\\images\\IMG_2448_jpeg_jpg.rf.28ce79dab47ad525751d5407be09bc3d.jpg: 416x320 9 fishs, 4 sharks, 5.0ms\n",
      "image 15/63 c:\\BigJoo\\study\\yolov8\\datasets\\test\\images\\IMG_2450_jpeg_jpg.rf.ff673921373de3bfc275863e3befeefe.jpg: 416x320 14 fishs, 1 shark, 6.0ms\n",
      "image 16/63 c:\\BigJoo\\study\\yolov8\\datasets\\test\\images\\IMG_2465_jpeg_jpg.rf.7e699ec1d2e373d93dac32cd02db9438.jpg: 416x320 17 jellyfishs, 4.0ms\n",
      "image 17/63 c:\\BigJoo\\study\\yolov8\\datasets\\test\\images\\IMG_2466_jpeg_jpg.rf.53886abb9947ec4e47405957b30fe314.jpg: 416x320 6 jellyfishs, 5.0ms\n",
      "image 18/63 c:\\BigJoo\\study\\yolov8\\datasets\\test\\images\\IMG_2468_jpeg_jpg.rf.c933cc14c99b11a90413a1490d4556db.jpg: 416x320 10 jellyfishs, 9.5ms\n",
      "image 19/63 c:\\BigJoo\\study\\yolov8\\datasets\\test\\images\\IMG_2470_jpeg_jpg.rf.75b359c8baa6866bfecf07a0e4e8c33d.jpg: 416x320 17 jellyfishs, 6.4ms\n",
      "image 20/63 c:\\BigJoo\\study\\yolov8\\datasets\\test\\images\\IMG_2473_jpeg_jpg.rf.6284677f9c781b0cfeec54981a17d573.jpg: 416x320 4 jellyfishs, 7.5ms\n",
      "image 21/63 c:\\BigJoo\\study\\yolov8\\datasets\\test\\images\\IMG_2477_jpeg_jpg.rf.7b2692f142d53c16ad477065f1f8ae6d.jpg: 416x320 8 jellyfishs, 5.0ms\n",
      "image 22/63 c:\\BigJoo\\study\\yolov8\\datasets\\test\\images\\IMG_2496_jpeg_jpg.rf.3f91e7f18502074c89fa720a11926fab.jpg: 416x320 5 fishs, 3 sharks, 1 stingray, 3.5ms\n",
      "image 23/63 c:\\BigJoo\\study\\yolov8\\datasets\\test\\images\\IMG_2499_jpeg_jpg.rf.6cbab3719b9063388b5ab3ab826d7bd3.jpg: 416x320 1 shark, 6.8ms\n",
      "image 24/63 c:\\BigJoo\\study\\yolov8\\datasets\\test\\images\\IMG_2514_jpeg_jpg.rf.6ccb3859d75fc5cfe053b1c1474254b2.jpg: 416x320 2 sharks, 6.5ms\n",
      "image 25/63 c:\\BigJoo\\study\\yolov8\\datasets\\test\\images\\IMG_2526_jpeg_jpg.rf.003e1d1d41bcd204df731b85cea68781.jpg: 416x320 4 puffins, 5.1ms\n",
      "image 26/63 c:\\BigJoo\\study\\yolov8\\datasets\\test\\images\\IMG_2532_jpeg_jpg.rf.2afeb76e5d9372dbbd6fbc53d5b75675.jpg: 416x320 2 starfishs, 5.9ms\n",
      "image 27/63 c:\\BigJoo\\study\\yolov8\\datasets\\test\\images\\IMG_2544_jpeg_jpg.rf.03f51bb9e1c57fb9cd62f8cbdca14e90.jpg: 416x320 3 starfishs, 5.0ms\n",
      "image 28/63 c:\\BigJoo\\study\\yolov8\\datasets\\test\\images\\IMG_2547_jpeg_jpg.rf.9406b6f1a9fad2292c4abd28f712baaf.jpg: 416x320 6 starfishs, 7.5ms\n",
      "image 29/63 c:\\BigJoo\\study\\yolov8\\datasets\\test\\images\\IMG_2570_jpeg_jpg.rf.ed40900b657a5b23d92cb2d296ad2dbc.jpg: 416x320 12 fishs, 2 sharks, 4.5ms\n",
      "image 30/63 c:\\BigJoo\\study\\yolov8\\datasets\\test\\images\\IMG_2574_jpeg_jpg.rf.ca0c3ad32384309a61e92d9a8bef87b9.jpg: 416x320 15 jellyfishs, 5.0ms\n",
      "image 31/63 c:\\BigJoo\\study\\yolov8\\datasets\\test\\images\\IMG_2582_jpeg_jpg.rf.14f175066ce74b470bf31fa0c7a096cd.jpg: 416x320 7 fishs, 2 sharks, 2 stingrays, 6.1ms\n",
      "image 32/63 c:\\BigJoo\\study\\yolov8\\datasets\\test\\images\\IMG_2588_jpeg_jpg.rf.cb9cea8f05891cfd55a3e93f2908201f.jpg: 416x320 3 stingrays, 6.1ms\n",
      "image 33/63 c:\\BigJoo\\study\\yolov8\\datasets\\test\\images\\IMG_2630_jpeg_jpg.rf.310f0c986a72be46b80ce31c2d00e46d.jpg: 416x320 1 fish, 1 stingray, 4.0ms\n",
      "image 34/63 c:\\BigJoo\\study\\yolov8\\datasets\\test\\images\\IMG_2632_jpeg_jpg.rf.f44037edca490b16cbf06427e28ea946.jpg: 416x320 4 fishs, 2 stingrays, 10.5ms\n",
      "image 35/63 c:\\BigJoo\\study\\yolov8\\datasets\\test\\images\\IMG_2651_jpeg_jpg.rf.84b3930aa80b610cc97bf1c176763940.jpg: 416x320 1 stingray, 5.0ms\n",
      "image 36/63 c:\\BigJoo\\study\\yolov8\\datasets\\test\\images\\IMG_3129_jpeg_jpg.rf.90c472dcdf9b6713ec767cc97560ceca.jpg: 416x320 1 starfish, 5.4ms\n",
      "image 37/63 c:\\BigJoo\\study\\yolov8\\datasets\\test\\images\\IMG_3134_jpeg_jpg.rf.50750ca778773042a3c46a1d3e480132.jpg: 416x320 2 puffins, 5.0ms\n",
      "image 38/63 c:\\BigJoo\\study\\yolov8\\datasets\\test\\images\\IMG_3136_jpeg_jpg.rf.0d8fef73d4cc5e1c35ce424444d9e44b.jpg: 416x320 9 puffins, 4.5ms\n",
      "image 39/63 c:\\BigJoo\\study\\yolov8\\datasets\\test\\images\\IMG_3144_jpeg_jpg.rf.f29a36360174dc83ecef93275ed8f02e.jpg: 416x320 3 puffins, 5.1ms\n",
      "image 40/63 c:\\BigJoo\\study\\yolov8\\datasets\\test\\images\\IMG_3154_jpeg_jpg.rf.5f429a366c02d38bc9e2217f4508c3e0.jpg: 416x320 2 puffins, 4.0ms\n",
      "image 41/63 c:\\BigJoo\\study\\yolov8\\datasets\\test\\images\\IMG_3164_jpeg_jpg.rf.06637eee0b72df791aa729807ca45c4d.jpg: 416x320 10 penguins, 5.3ms\n",
      "image 42/63 c:\\BigJoo\\study\\yolov8\\datasets\\test\\images\\IMG_3173_jpeg_jpg.rf.6f05acaa0b22d410a5df3ea3286e227d.jpg: 320x416 9 penguins, 80.0ms\n",
      "image 43/63 c:\\BigJoo\\study\\yolov8\\datasets\\test\\images\\IMG_3175_jpeg_jpg.rf.686c7d36e049eea974a363e99bf0bee0.jpg: 320x416 10 penguins, 4.1ms\n",
      "image 44/63 c:\\BigJoo\\study\\yolov8\\datasets\\test\\images\\IMG_8331_jpg.rf.ec024bdf1e9de02b020b5e6505c1c58b.jpg: 320x416 2 fishs, 6.5ms\n",
      "image 45/63 c:\\BigJoo\\study\\yolov8\\datasets\\test\\images\\IMG_8343_jpg.rf.2d88000497d74d72aedc118b125a0c07.jpg: 320x416 3 fishs, 5.0ms\n",
      "image 46/63 c:\\BigJoo\\study\\yolov8\\datasets\\test\\images\\IMG_8395_jpg.rf.3bebece033961c9f665571644a14261f.jpg: 320x416 4 fishs, 4 sharks, 5.0ms\n",
      "image 47/63 c:\\BigJoo\\study\\yolov8\\datasets\\test\\images\\IMG_8396_jpg.rf.106a6ced5c649ea81f0de8ecaa4ff3b8.jpg: 320x416 2 fishs, 5 sharks, 6.7ms\n",
      "image 48/63 c:\\BigJoo\\study\\yolov8\\datasets\\test\\images\\IMG_8404_jpg.rf.265b89e862a375f6b89f781ea60ed480.jpg: 320x416 4 fishs, 1 stingray, 5.2ms\n",
      "image 49/63 c:\\BigJoo\\study\\yolov8\\datasets\\test\\images\\IMG_8420_jpg.rf.31f1d5f1440e48ccf1dee988b565911b.jpg: 320x416 6 fishs, 5.8ms\n",
      "image 50/63 c:\\BigJoo\\study\\yolov8\\datasets\\test\\images\\IMG_8452_jpg.rf.6bbff701ab93e29553b3a70137fd4e66.jpg: 320x416 17 fishs, 4.7ms\n",
      "image 51/63 c:\\BigJoo\\study\\yolov8\\datasets\\test\\images\\IMG_8490_jpg.rf.1836542cf054c6d303a2dd05d4194d7f.jpg: 320x416 35 jellyfishs, 4.1ms\n",
      "image 52/63 c:\\BigJoo\\study\\yolov8\\datasets\\test\\images\\IMG_8497_MOV-0_jpg.rf.5c59bd1bf7d8fd7a20999d51a79a12c0.jpg: 416x256 5 fishs, 84.4ms\n",
      "image 53/63 c:\\BigJoo\\study\\yolov8\\datasets\\test\\images\\IMG_8497_MOV-3_jpg.rf.fd813e14681c8b41e709a500748ce46a.jpg: 416x256 2 fishs, 5.0ms\n",
      "image 54/63 c:\\BigJoo\\study\\yolov8\\datasets\\test\\images\\IMG_8497_MOV-5_jpg.rf.3deffb208d656b7845661c5e33dd1afb.jpg: 416x256 3 fishs, 5.0ms\n",
      "image 55/63 c:\\BigJoo\\study\\yolov8\\datasets\\test\\images\\IMG_8513_MOV-0_jpg.rf.2a2f77e3f73630b60aaf6ad3ca4ed130.jpg: 416x256 2 fishs, 4.0ms\n",
      "image 56/63 c:\\BigJoo\\study\\yolov8\\datasets\\test\\images\\IMG_8515_jpg.rf.98a9daca7c5a5bad9872bd7fb2d4f198.jpg: 320x416 5 fishs, 5.3ms\n",
      "image 57/63 c:\\BigJoo\\study\\yolov8\\datasets\\test\\images\\IMG_8582_MOV-0_jpg.rf.aa8304d7a5112d63c8841d96160d42cd.jpg: 416x256 3 fishs, 1 stingray, 6.5ms\n",
      "image 58/63 c:\\BigJoo\\study\\yolov8\\datasets\\test\\images\\IMG_8582_MOV-3_jpg.rf.c7dde0639837077f76428d70223368a4.jpg: 416x256 (no detections), 6.0ms\n",
      "image 59/63 c:\\BigJoo\\study\\yolov8\\datasets\\test\\images\\IMG_8582_MOV-5_jpg.rf.9d7a26fbf145ce39ab0831b4e6bc1f1e.jpg: 416x256 3 fishs, 1 stingray, 5.2ms\n",
      "image 60/63 c:\\BigJoo\\study\\yolov8\\datasets\\test\\images\\IMG_8590_MOV-2_jpg.rf.2136fdb5dcbcd58a1dc456bb3e5bf476.jpg: 416x256 3 jellyfishs, 5.0ms\n",
      "image 61/63 c:\\BigJoo\\study\\yolov8\\datasets\\test\\images\\IMG_8590_MOV-5_jpg.rf.074e6d8acdd3fcad16d866c341b43769.jpg: 416x256 1 stingray, 10.0ms\n",
      "image 62/63 c:\\BigJoo\\study\\yolov8\\datasets\\test\\images\\IMG_8595_MOV-0_jpg.rf.312ab0b8b9fca18134aee88044f45a06.jpg: 416x256 42 jellyfishs, 8.5ms\n",
      "image 63/63 c:\\BigJoo\\study\\yolov8\\datasets\\test\\images\\IMG_8599_MOV-3_jpg.rf.412ebb16ea80e964b4464c50e757df0e.jpg: 416x256 4 jellyfishs, 6.2ms\n",
      "Speed: 1.1ms preprocess, 9.6ms inference, 1.4ms postprocess per image at shape (1, 3, 416, 256)\n",
      "Results saved to \u001b[1mruns\\detect\\predict\u001b[0m\n"
     ]
    }
   ],
   "source": [
    "results = model.predict(source='datasets/test/images/', save=True)"
   ]
  },
  {
   "cell_type": "code",
   "execution_count": 10,
   "metadata": {
    "colab": {
     "base_uri": "https://localhost:8080/"
    },
    "id": "CWuCAASSfy66",
    "outputId": "6a4ba1b1-ca18-430c-97cc-987f5dc7e573"
   },
   "outputs": [
    {
     "name": "stdout",
     "output_type": "stream",
     "text": [
      "<class 'list'> 63\n"
     ]
    }
   ],
   "source": [
    "print(type(results), len(results))"
   ]
  },
  {
   "cell_type": "code",
   "execution_count": 11,
   "metadata": {
    "colab": {
     "base_uri": "https://localhost:8080/"
    },
    "id": "_TFeaA3CkfFX",
    "outputId": "2e5e6226-1f60-4c25-c172-20d2b31eb3c1"
   },
   "outputs": [
    {
     "name": "stdout",
     "output_type": "stream",
     "text": [
      "\n",
      "{class num:counts} = {3.0: 1} \n",
      "\n",
      "class num = 3 , class_name = puffin\n",
      "\n",
      "{class num:counts} = {2.0: 7} \n",
      "\n",
      "class num = 2 , class_name = penguin\n",
      "class num = 2 , class_name = penguin\n",
      "class num = 2 , class_name = penguin\n",
      "class num = 2 , class_name = penguin\n",
      "class num = 2 , class_name = penguin\n",
      "class num = 2 , class_name = penguin\n",
      "class num = 2 , class_name = penguin\n",
      "\n",
      "{class num:counts} = {2.0: 6} \n",
      "\n",
      "class num = 2 , class_name = penguin\n",
      "class num = 2 , class_name = penguin\n",
      "class num = 2 , class_name = penguin\n",
      "class num = 2 , class_name = penguin\n",
      "class num = 2 , class_name = penguin\n",
      "class num = 2 , class_name = penguin\n",
      "\n",
      "{class num:counts} = {2.0: 1} \n",
      "\n",
      "class num = 2 , class_name = penguin\n",
      "\n",
      "{class num:counts} = {2.0: 4} \n",
      "\n",
      "class num = 2 , class_name = penguin\n",
      "class num = 2 , class_name = penguin\n",
      "class num = 2 , class_name = penguin\n",
      "class num = 2 , class_name = penguin\n",
      "\n",
      "{class num:counts} = {0.0: 3} \n",
      "\n",
      "class num = 0 , class_name = fish\n",
      "class num = 0 , class_name = fish\n",
      "class num = 0 , class_name = fish\n",
      "\n",
      "{class num:counts} = {0.0: 1} \n",
      "\n",
      "class num = 0 , class_name = fish\n",
      "\n",
      "{class num:counts} = {0.0: 5} \n",
      "\n",
      "class num = 0 , class_name = fish\n",
      "class num = 0 , class_name = fish\n",
      "class num = 0 , class_name = fish\n",
      "class num = 0 , class_name = fish\n",
      "class num = 0 , class_name = fish\n",
      "\n",
      "{class num:counts} = {5.0: 1} \n",
      "\n",
      "class num = 5 , class_name = starfish\n",
      "\n",
      "{class num:counts} = {0.0: 4} \n",
      "\n",
      "class num = 0 , class_name = fish\n",
      "class num = 0 , class_name = fish\n",
      "class num = 0 , class_name = fish\n",
      "class num = 0 , class_name = fish\n",
      "\n",
      "{class num:counts} = {0.0: 14, 4.0: 3} \n",
      "\n",
      "class num = 4 , class_name = shark\n",
      "class num = 0 , class_name = fish\n",
      "class num = 4 , class_name = shark\n",
      "class num = 0 , class_name = fish\n",
      "class num = 0 , class_name = fish\n",
      "class num = 0 , class_name = fish\n",
      "class num = 0 , class_name = fish\n",
      "class num = 0 , class_name = fish\n",
      "class num = 0 , class_name = fish\n",
      "class num = 0 , class_name = fish\n",
      "class num = 4 , class_name = shark\n",
      "class num = 0 , class_name = fish\n",
      "class num = 0 , class_name = fish\n",
      "class num = 0 , class_name = fish\n",
      "class num = 0 , class_name = fish\n",
      "class num = 0 , class_name = fish\n",
      "class num = 0 , class_name = fish\n",
      "\n",
      "{class num:counts} = {0.0: 4, 4.0: 1} \n",
      "\n",
      "class num = 0 , class_name = fish\n",
      "class num = 0 , class_name = fish\n",
      "class num = 0 , class_name = fish\n",
      "class num = 4 , class_name = shark\n",
      "class num = 0 , class_name = fish\n",
      "\n",
      "{class num:counts} = {0.0: 5, 4.0: 2} \n",
      "\n",
      "class num = 4 , class_name = shark\n",
      "class num = 0 , class_name = fish\n",
      "class num = 4 , class_name = shark\n",
      "class num = 0 , class_name = fish\n",
      "class num = 0 , class_name = fish\n",
      "class num = 0 , class_name = fish\n",
      "class num = 0 , class_name = fish\n",
      "\n",
      "{class num:counts} = {0.0: 9, 4.0: 4} \n",
      "\n",
      "class num = 0 , class_name = fish\n",
      "class num = 0 , class_name = fish\n",
      "class num = 0 , class_name = fish\n",
      "class num = 0 , class_name = fish\n",
      "class num = 0 , class_name = fish\n",
      "class num = 4 , class_name = shark\n",
      "class num = 0 , class_name = fish\n",
      "class num = 0 , class_name = fish\n",
      "class num = 4 , class_name = shark\n",
      "class num = 4 , class_name = shark\n",
      "class num = 4 , class_name = shark\n",
      "class num = 0 , class_name = fish\n",
      "class num = 0 , class_name = fish\n",
      "\n",
      "{class num:counts} = {0.0: 14, 4.0: 1} \n",
      "\n",
      "class num = 4 , class_name = shark\n",
      "class num = 0 , class_name = fish\n",
      "class num = 0 , class_name = fish\n",
      "class num = 0 , class_name = fish\n",
      "class num = 0 , class_name = fish\n",
      "class num = 0 , class_name = fish\n",
      "class num = 0 , class_name = fish\n",
      "class num = 0 , class_name = fish\n",
      "class num = 0 , class_name = fish\n",
      "class num = 0 , class_name = fish\n",
      "class num = 0 , class_name = fish\n",
      "class num = 0 , class_name = fish\n",
      "class num = 0 , class_name = fish\n",
      "class num = 0 , class_name = fish\n",
      "class num = 0 , class_name = fish\n",
      "\n",
      "{class num:counts} = {1.0: 17} \n",
      "\n",
      "class num = 1 , class_name = jellyfish\n",
      "class num = 1 , class_name = jellyfish\n",
      "class num = 1 , class_name = jellyfish\n",
      "class num = 1 , class_name = jellyfish\n",
      "class num = 1 , class_name = jellyfish\n",
      "class num = 1 , class_name = jellyfish\n",
      "class num = 1 , class_name = jellyfish\n",
      "class num = 1 , class_name = jellyfish\n",
      "class num = 1 , class_name = jellyfish\n",
      "class num = 1 , class_name = jellyfish\n",
      "class num = 1 , class_name = jellyfish\n",
      "class num = 1 , class_name = jellyfish\n",
      "class num = 1 , class_name = jellyfish\n",
      "class num = 1 , class_name = jellyfish\n",
      "class num = 1 , class_name = jellyfish\n",
      "class num = 1 , class_name = jellyfish\n",
      "class num = 1 , class_name = jellyfish\n",
      "\n",
      "{class num:counts} = {1.0: 6} \n",
      "\n",
      "class num = 1 , class_name = jellyfish\n",
      "class num = 1 , class_name = jellyfish\n",
      "class num = 1 , class_name = jellyfish\n",
      "class num = 1 , class_name = jellyfish\n",
      "class num = 1 , class_name = jellyfish\n",
      "class num = 1 , class_name = jellyfish\n",
      "\n",
      "{class num:counts} = {1.0: 10} \n",
      "\n",
      "class num = 1 , class_name = jellyfish\n",
      "class num = 1 , class_name = jellyfish\n",
      "class num = 1 , class_name = jellyfish\n",
      "class num = 1 , class_name = jellyfish\n",
      "class num = 1 , class_name = jellyfish\n",
      "class num = 1 , class_name = jellyfish\n",
      "class num = 1 , class_name = jellyfish\n",
      "class num = 1 , class_name = jellyfish\n",
      "class num = 1 , class_name = jellyfish\n",
      "class num = 1 , class_name = jellyfish\n",
      "\n",
      "{class num:counts} = {1.0: 17} \n",
      "\n",
      "class num = 1 , class_name = jellyfish\n",
      "class num = 1 , class_name = jellyfish\n",
      "class num = 1 , class_name = jellyfish\n",
      "class num = 1 , class_name = jellyfish\n",
      "class num = 1 , class_name = jellyfish\n",
      "class num = 1 , class_name = jellyfish\n",
      "class num = 1 , class_name = jellyfish\n",
      "class num = 1 , class_name = jellyfish\n",
      "class num = 1 , class_name = jellyfish\n",
      "class num = 1 , class_name = jellyfish\n",
      "class num = 1 , class_name = jellyfish\n",
      "class num = 1 , class_name = jellyfish\n",
      "class num = 1 , class_name = jellyfish\n",
      "class num = 1 , class_name = jellyfish\n",
      "class num = 1 , class_name = jellyfish\n",
      "class num = 1 , class_name = jellyfish\n",
      "class num = 1 , class_name = jellyfish\n",
      "\n",
      "{class num:counts} = {1.0: 4} \n",
      "\n",
      "class num = 1 , class_name = jellyfish\n",
      "class num = 1 , class_name = jellyfish\n",
      "class num = 1 , class_name = jellyfish\n",
      "class num = 1 , class_name = jellyfish\n",
      "\n",
      "{class num:counts} = {1.0: 8} \n",
      "\n",
      "class num = 1 , class_name = jellyfish\n",
      "class num = 1 , class_name = jellyfish\n",
      "class num = 1 , class_name = jellyfish\n",
      "class num = 1 , class_name = jellyfish\n",
      "class num = 1 , class_name = jellyfish\n",
      "class num = 1 , class_name = jellyfish\n",
      "class num = 1 , class_name = jellyfish\n",
      "class num = 1 , class_name = jellyfish\n",
      "\n",
      "{class num:counts} = {0.0: 5, 4.0: 3, 6.0: 1} \n",
      "\n",
      "class num = 4 , class_name = shark\n",
      "class num = 4 , class_name = shark\n",
      "class num = 4 , class_name = shark\n",
      "class num = 0 , class_name = fish\n",
      "class num = 6 , class_name = stingray\n",
      "class num = 0 , class_name = fish\n",
      "class num = 0 , class_name = fish\n",
      "class num = 0 , class_name = fish\n",
      "class num = 0 , class_name = fish\n",
      "\n",
      "{class num:counts} = {4.0: 1} \n",
      "\n",
      "class num = 4 , class_name = shark\n",
      "\n",
      "{class num:counts} = {4.0: 2} \n",
      "\n",
      "class num = 4 , class_name = shark\n",
      "class num = 4 , class_name = shark\n",
      "\n",
      "{class num:counts} = {3.0: 4} \n",
      "\n",
      "class num = 3 , class_name = puffin\n",
      "class num = 3 , class_name = puffin\n",
      "class num = 3 , class_name = puffin\n",
      "class num = 3 , class_name = puffin\n",
      "\n",
      "{class num:counts} = {5.0: 2} \n",
      "\n",
      "class num = 5 , class_name = starfish\n",
      "class num = 5 , class_name = starfish\n",
      "\n",
      "{class num:counts} = {5.0: 3} \n",
      "\n",
      "class num = 5 , class_name = starfish\n",
      "class num = 5 , class_name = starfish\n",
      "class num = 5 , class_name = starfish\n",
      "\n",
      "{class num:counts} = {5.0: 6} \n",
      "\n",
      "class num = 5 , class_name = starfish\n",
      "class num = 5 , class_name = starfish\n",
      "class num = 5 , class_name = starfish\n",
      "class num = 5 , class_name = starfish\n",
      "class num = 5 , class_name = starfish\n",
      "class num = 5 , class_name = starfish\n",
      "\n",
      "{class num:counts} = {0.0: 12, 4.0: 2} \n",
      "\n",
      "class num = 4 , class_name = shark\n",
      "class num = 0 , class_name = fish\n",
      "class num = 4 , class_name = shark\n",
      "class num = 0 , class_name = fish\n",
      "class num = 0 , class_name = fish\n",
      "class num = 0 , class_name = fish\n",
      "class num = 0 , class_name = fish\n",
      "class num = 0 , class_name = fish\n",
      "class num = 0 , class_name = fish\n",
      "class num = 0 , class_name = fish\n",
      "class num = 0 , class_name = fish\n",
      "class num = 0 , class_name = fish\n",
      "class num = 0 , class_name = fish\n",
      "class num = 0 , class_name = fish\n",
      "\n",
      "{class num:counts} = {1.0: 15} \n",
      "\n",
      "class num = 1 , class_name = jellyfish\n",
      "class num = 1 , class_name = jellyfish\n",
      "class num = 1 , class_name = jellyfish\n",
      "class num = 1 , class_name = jellyfish\n",
      "class num = 1 , class_name = jellyfish\n",
      "class num = 1 , class_name = jellyfish\n",
      "class num = 1 , class_name = jellyfish\n",
      "class num = 1 , class_name = jellyfish\n",
      "class num = 1 , class_name = jellyfish\n",
      "class num = 1 , class_name = jellyfish\n",
      "class num = 1 , class_name = jellyfish\n",
      "class num = 1 , class_name = jellyfish\n",
      "class num = 1 , class_name = jellyfish\n",
      "class num = 1 , class_name = jellyfish\n",
      "class num = 1 , class_name = jellyfish\n",
      "\n",
      "{class num:counts} = {0.0: 7, 4.0: 2, 6.0: 2} \n",
      "\n",
      "class num = 4 , class_name = shark\n",
      "class num = 6 , class_name = stingray\n",
      "class num = 0 , class_name = fish\n",
      "class num = 4 , class_name = shark\n",
      "class num = 0 , class_name = fish\n",
      "class num = 0 , class_name = fish\n",
      "class num = 0 , class_name = fish\n",
      "class num = 0 , class_name = fish\n",
      "class num = 0 , class_name = fish\n",
      "class num = 6 , class_name = stingray\n",
      "class num = 0 , class_name = fish\n",
      "\n",
      "{class num:counts} = {6.0: 3} \n",
      "\n",
      "class num = 6 , class_name = stingray\n",
      "class num = 6 , class_name = stingray\n",
      "class num = 6 , class_name = stingray\n",
      "\n",
      "{class num:counts} = {0.0: 1, 6.0: 1} \n",
      "\n",
      "class num = 6 , class_name = stingray\n",
      "class num = 0 , class_name = fish\n",
      "\n",
      "{class num:counts} = {0.0: 4, 6.0: 2} \n",
      "\n",
      "class num = 6 , class_name = stingray\n",
      "class num = 0 , class_name = fish\n",
      "class num = 0 , class_name = fish\n",
      "class num = 0 , class_name = fish\n",
      "class num = 6 , class_name = stingray\n",
      "class num = 0 , class_name = fish\n",
      "\n",
      "{class num:counts} = {6.0: 1} \n",
      "\n",
      "class num = 6 , class_name = stingray\n",
      "\n",
      "{class num:counts} = {5.0: 1} \n",
      "\n",
      "class num = 5 , class_name = starfish\n",
      "\n",
      "{class num:counts} = {3.0: 2} \n",
      "\n",
      "class num = 3 , class_name = puffin\n",
      "class num = 3 , class_name = puffin\n",
      "\n",
      "{class num:counts} = {3.0: 9} \n",
      "\n",
      "class num = 3 , class_name = puffin\n",
      "class num = 3 , class_name = puffin\n",
      "class num = 3 , class_name = puffin\n",
      "class num = 3 , class_name = puffin\n",
      "class num = 3 , class_name = puffin\n",
      "class num = 3 , class_name = puffin\n",
      "class num = 3 , class_name = puffin\n",
      "class num = 3 , class_name = puffin\n",
      "class num = 3 , class_name = puffin\n",
      "\n",
      "{class num:counts} = {3.0: 3} \n",
      "\n",
      "class num = 3 , class_name = puffin\n",
      "class num = 3 , class_name = puffin\n",
      "class num = 3 , class_name = puffin\n",
      "\n",
      "{class num:counts} = {3.0: 2} \n",
      "\n",
      "class num = 3 , class_name = puffin\n",
      "class num = 3 , class_name = puffin\n",
      "\n",
      "{class num:counts} = {2.0: 10} \n",
      "\n",
      "class num = 2 , class_name = penguin\n",
      "class num = 2 , class_name = penguin\n",
      "class num = 2 , class_name = penguin\n",
      "class num = 2 , class_name = penguin\n",
      "class num = 2 , class_name = penguin\n",
      "class num = 2 , class_name = penguin\n",
      "class num = 2 , class_name = penguin\n",
      "class num = 2 , class_name = penguin\n",
      "class num = 2 , class_name = penguin\n",
      "class num = 2 , class_name = penguin\n",
      "\n",
      "{class num:counts} = {2.0: 9} \n",
      "\n",
      "class num = 2 , class_name = penguin\n",
      "class num = 2 , class_name = penguin\n",
      "class num = 2 , class_name = penguin\n",
      "class num = 2 , class_name = penguin\n",
      "class num = 2 , class_name = penguin\n",
      "class num = 2 , class_name = penguin\n",
      "class num = 2 , class_name = penguin\n",
      "class num = 2 , class_name = penguin\n",
      "class num = 2 , class_name = penguin\n",
      "\n",
      "{class num:counts} = {2.0: 10} \n",
      "\n",
      "class num = 2 , class_name = penguin\n",
      "class num = 2 , class_name = penguin\n",
      "class num = 2 , class_name = penguin\n",
      "class num = 2 , class_name = penguin\n",
      "class num = 2 , class_name = penguin\n",
      "class num = 2 , class_name = penguin\n",
      "class num = 2 , class_name = penguin\n",
      "class num = 2 , class_name = penguin\n",
      "class num = 2 , class_name = penguin\n",
      "class num = 2 , class_name = penguin\n",
      "\n",
      "{class num:counts} = {0.0: 2} \n",
      "\n",
      "class num = 0 , class_name = fish\n",
      "class num = 0 , class_name = fish\n",
      "\n",
      "{class num:counts} = {0.0: 3} \n",
      "\n",
      "class num = 0 , class_name = fish\n",
      "class num = 0 , class_name = fish\n",
      "class num = 0 , class_name = fish\n",
      "\n",
      "{class num:counts} = {0.0: 4, 4.0: 4} \n",
      "\n",
      "class num = 4 , class_name = shark\n",
      "class num = 4 , class_name = shark\n",
      "class num = 4 , class_name = shark\n",
      "class num = 4 , class_name = shark\n",
      "class num = 0 , class_name = fish\n",
      "class num = 0 , class_name = fish\n",
      "class num = 0 , class_name = fish\n",
      "class num = 0 , class_name = fish\n",
      "\n",
      "{class num:counts} = {0.0: 2, 4.0: 5} \n",
      "\n",
      "class num = 4 , class_name = shark\n",
      "class num = 4 , class_name = shark\n",
      "class num = 4 , class_name = shark\n",
      "class num = 4 , class_name = shark\n",
      "class num = 0 , class_name = fish\n",
      "class num = 0 , class_name = fish\n",
      "class num = 4 , class_name = shark\n",
      "\n",
      "{class num:counts} = {0.0: 4, 6.0: 1} \n",
      "\n",
      "class num = 6 , class_name = stingray\n",
      "class num = 0 , class_name = fish\n",
      "class num = 0 , class_name = fish\n",
      "class num = 0 , class_name = fish\n",
      "class num = 0 , class_name = fish\n",
      "\n",
      "{class num:counts} = {0.0: 6} \n",
      "\n",
      "class num = 0 , class_name = fish\n",
      "class num = 0 , class_name = fish\n",
      "class num = 0 , class_name = fish\n",
      "class num = 0 , class_name = fish\n",
      "class num = 0 , class_name = fish\n",
      "class num = 0 , class_name = fish\n",
      "\n",
      "{class num:counts} = {0.0: 17} \n",
      "\n",
      "class num = 0 , class_name = fish\n",
      "class num = 0 , class_name = fish\n",
      "class num = 0 , class_name = fish\n",
      "class num = 0 , class_name = fish\n",
      "class num = 0 , class_name = fish\n",
      "class num = 0 , class_name = fish\n",
      "class num = 0 , class_name = fish\n",
      "class num = 0 , class_name = fish\n",
      "class num = 0 , class_name = fish\n",
      "class num = 0 , class_name = fish\n",
      "class num = 0 , class_name = fish\n",
      "class num = 0 , class_name = fish\n",
      "class num = 0 , class_name = fish\n",
      "class num = 0 , class_name = fish\n",
      "class num = 0 , class_name = fish\n",
      "class num = 0 , class_name = fish\n",
      "class num = 0 , class_name = fish\n",
      "\n",
      "{class num:counts} = {1.0: 35} \n",
      "\n",
      "class num = 1 , class_name = jellyfish\n",
      "class num = 1 , class_name = jellyfish\n",
      "class num = 1 , class_name = jellyfish\n",
      "class num = 1 , class_name = jellyfish\n",
      "class num = 1 , class_name = jellyfish\n",
      "class num = 1 , class_name = jellyfish\n",
      "class num = 1 , class_name = jellyfish\n",
      "class num = 1 , class_name = jellyfish\n",
      "class num = 1 , class_name = jellyfish\n",
      "class num = 1 , class_name = jellyfish\n",
      "class num = 1 , class_name = jellyfish\n",
      "class num = 1 , class_name = jellyfish\n",
      "class num = 1 , class_name = jellyfish\n",
      "class num = 1 , class_name = jellyfish\n",
      "class num = 1 , class_name = jellyfish\n",
      "class num = 1 , class_name = jellyfish\n",
      "class num = 1 , class_name = jellyfish\n",
      "class num = 1 , class_name = jellyfish\n",
      "class num = 1 , class_name = jellyfish\n",
      "class num = 1 , class_name = jellyfish\n",
      "class num = 1 , class_name = jellyfish\n",
      "class num = 1 , class_name = jellyfish\n",
      "class num = 1 , class_name = jellyfish\n",
      "class num = 1 , class_name = jellyfish\n",
      "class num = 1 , class_name = jellyfish\n",
      "class num = 1 , class_name = jellyfish\n",
      "class num = 1 , class_name = jellyfish\n",
      "class num = 1 , class_name = jellyfish\n",
      "class num = 1 , class_name = jellyfish\n",
      "class num = 1 , class_name = jellyfish\n",
      "class num = 1 , class_name = jellyfish\n",
      "class num = 1 , class_name = jellyfish\n",
      "class num = 1 , class_name = jellyfish\n",
      "class num = 1 , class_name = jellyfish\n",
      "class num = 1 , class_name = jellyfish\n",
      "\n",
      "{class num:counts} = {0.0: 5} \n",
      "\n",
      "class num = 0 , class_name = fish\n",
      "class num = 0 , class_name = fish\n",
      "class num = 0 , class_name = fish\n",
      "class num = 0 , class_name = fish\n",
      "class num = 0 , class_name = fish\n",
      "\n",
      "{class num:counts} = {0.0: 2} \n",
      "\n",
      "class num = 0 , class_name = fish\n",
      "class num = 0 , class_name = fish\n",
      "\n",
      "{class num:counts} = {0.0: 3} \n",
      "\n",
      "class num = 0 , class_name = fish\n",
      "class num = 0 , class_name = fish\n",
      "class num = 0 , class_name = fish\n",
      "\n",
      "{class num:counts} = {0.0: 2} \n",
      "\n",
      "class num = 0 , class_name = fish\n",
      "class num = 0 , class_name = fish\n",
      "\n",
      "{class num:counts} = {0.0: 5} \n",
      "\n",
      "class num = 0 , class_name = fish\n",
      "class num = 0 , class_name = fish\n",
      "class num = 0 , class_name = fish\n",
      "class num = 0 , class_name = fish\n",
      "class num = 0 , class_name = fish\n",
      "\n",
      "{class num:counts} = {0.0: 3, 6.0: 1} \n",
      "\n",
      "class num = 0 , class_name = fish\n",
      "class num = 6 , class_name = stingray\n",
      "class num = 0 , class_name = fish\n",
      "class num = 0 , class_name = fish\n",
      "\n",
      "{class num:counts} = {} \n",
      "\n",
      "\n",
      "{class num:counts} = {0.0: 3, 6.0: 1} \n",
      "\n",
      "class num = 0 , class_name = fish\n",
      "class num = 6 , class_name = stingray\n",
      "class num = 0 , class_name = fish\n",
      "class num = 0 , class_name = fish\n",
      "\n",
      "{class num:counts} = {1.0: 3} \n",
      "\n",
      "class num = 1 , class_name = jellyfish\n",
      "class num = 1 , class_name = jellyfish\n",
      "class num = 1 , class_name = jellyfish\n",
      "\n",
      "{class num:counts} = {6.0: 1} \n",
      "\n",
      "class num = 6 , class_name = stingray\n",
      "\n",
      "{class num:counts} = {1.0: 42} \n",
      "\n",
      "class num = 1 , class_name = jellyfish\n",
      "class num = 1 , class_name = jellyfish\n",
      "class num = 1 , class_name = jellyfish\n",
      "class num = 1 , class_name = jellyfish\n",
      "class num = 1 , class_name = jellyfish\n",
      "class num = 1 , class_name = jellyfish\n",
      "class num = 1 , class_name = jellyfish\n",
      "class num = 1 , class_name = jellyfish\n",
      "class num = 1 , class_name = jellyfish\n",
      "class num = 1 , class_name = jellyfish\n",
      "class num = 1 , class_name = jellyfish\n",
      "class num = 1 , class_name = jellyfish\n",
      "class num = 1 , class_name = jellyfish\n",
      "class num = 1 , class_name = jellyfish\n",
      "class num = 1 , class_name = jellyfish\n",
      "class num = 1 , class_name = jellyfish\n",
      "class num = 1 , class_name = jellyfish\n",
      "class num = 1 , class_name = jellyfish\n",
      "class num = 1 , class_name = jellyfish\n",
      "class num = 1 , class_name = jellyfish\n",
      "class num = 1 , class_name = jellyfish\n",
      "class num = 1 , class_name = jellyfish\n",
      "class num = 1 , class_name = jellyfish\n",
      "class num = 1 , class_name = jellyfish\n",
      "class num = 1 , class_name = jellyfish\n",
      "class num = 1 , class_name = jellyfish\n",
      "class num = 1 , class_name = jellyfish\n",
      "class num = 1 , class_name = jellyfish\n",
      "class num = 1 , class_name = jellyfish\n",
      "class num = 1 , class_name = jellyfish\n",
      "class num = 1 , class_name = jellyfish\n",
      "class num = 1 , class_name = jellyfish\n",
      "class num = 1 , class_name = jellyfish\n",
      "class num = 1 , class_name = jellyfish\n",
      "class num = 1 , class_name = jellyfish\n",
      "class num = 1 , class_name = jellyfish\n",
      "class num = 1 , class_name = jellyfish\n",
      "class num = 1 , class_name = jellyfish\n",
      "class num = 1 , class_name = jellyfish\n",
      "class num = 1 , class_name = jellyfish\n",
      "class num = 1 , class_name = jellyfish\n",
      "class num = 1 , class_name = jellyfish\n",
      "\n",
      "{class num:counts} = {1.0: 4} \n",
      "\n",
      "class num = 1 , class_name = jellyfish\n",
      "class num = 1 , class_name = jellyfish\n",
      "class num = 1 , class_name = jellyfish\n",
      "class num = 1 , class_name = jellyfish\n"
     ]
    }
   ],
   "source": [
    "import numpy as np\n",
    "\n",
    "for result in results:\n",
    "\n",
    "    uniq, cnt = np.unique(result.boxes.cls.cpu().numpy(), return_counts=True)  # Torch.Tensor -> numpy\n",
    "    uniq_cnt_dict = dict(zip(uniq, cnt))\n",
    "\n",
    "    print('\\n{class num:counts} =', uniq_cnt_dict,'\\n')\n",
    "\n",
    "    for c in result.boxes.cls:\n",
    "        print('class num =', int(c), ', class_name =', model.names[int(c)])"
   ]
  },
  {
   "cell_type": "markdown",
   "metadata": {
    "id": "99Ex5nU5F55F"
   },
   "source": [
    "### 결과 확인 및 다운로드"
   ]
  },
  {
   "cell_type": "code",
   "execution_count": 12,
   "metadata": {
    "colab": {
     "base_uri": "https://localhost:8080/"
    },
    "id": "xHOOYeLAHSb_",
    "outputId": "f07e6964-efad-4fbf-b46d-97d87e2d6892"
   },
   "outputs": [
    {
     "name": "stdout",
     "output_type": "stream",
     "text": [
      "63\n",
      "['runs/detect/predict\\\\IMG_2289_jpeg_jpg.rf.fe2a7a149e7b11f2313f5a7b30386e85.jpg', 'runs/detect/predict\\\\IMG_2301_jpeg_jpg.rf.2c19ae5efbd1f8611b5578125f001695.jpg', 'runs/detect/predict\\\\IMG_2319_jpeg_jpg.rf.6e20bf97d17b74a8948aa48776c40454.jpg', 'runs/detect/predict\\\\IMG_2347_jpeg_jpg.rf.7c71ac4b9301eb358cd4a832844dedcb.jpg', 'runs/detect/predict\\\\IMG_2354_jpeg_jpg.rf.396e872c7fb0a95e911806986995ee7a.jpg', 'runs/detect/predict\\\\IMG_2371_jpeg_jpg.rf.54505f60b6706da151c164188c305849.jpg', 'runs/detect/predict\\\\IMG_2379_jpeg_jpg.rf.7dc3160c937072d26d4624c6c48e904d.jpg', 'runs/detect/predict\\\\IMG_2380_jpeg_jpg.rf.a23809682eb1466c1136ca0f55de8fb5.jpg', 'runs/detect/predict\\\\IMG_2387_jpeg_jpg.rf.09b38bacfab0922a3a6b66480f01b719.jpg', 'runs/detect/predict\\\\IMG_2395_jpeg_jpg.rf.9f1503ad3b7a7c7938daed057cc4e9bc.jpg', 'runs/detect/predict\\\\IMG_2423_jpeg_jpg.rf.1c0901882e71d5ebd26f036f4e22da65.jpg', 'runs/detect/predict\\\\IMG_2434_jpeg_jpg.rf.8b20d3270d4fbc497c64125273f46ecb.jpg', 'runs/detect/predict\\\\IMG_2446_jpeg_jpg.rf.06ee05e92df8e3c33073147d8f595211.jpg', 'runs/detect/predict\\\\IMG_2448_jpeg_jpg.rf.28ce79dab47ad525751d5407be09bc3d.jpg', 'runs/detect/predict\\\\IMG_2450_jpeg_jpg.rf.ff673921373de3bfc275863e3befeefe.jpg', 'runs/detect/predict\\\\IMG_2465_jpeg_jpg.rf.7e699ec1d2e373d93dac32cd02db9438.jpg', 'runs/detect/predict\\\\IMG_2466_jpeg_jpg.rf.53886abb9947ec4e47405957b30fe314.jpg', 'runs/detect/predict\\\\IMG_2468_jpeg_jpg.rf.c933cc14c99b11a90413a1490d4556db.jpg', 'runs/detect/predict\\\\IMG_2470_jpeg_jpg.rf.75b359c8baa6866bfecf07a0e4e8c33d.jpg', 'runs/detect/predict\\\\IMG_2473_jpeg_jpg.rf.6284677f9c781b0cfeec54981a17d573.jpg', 'runs/detect/predict\\\\IMG_2477_jpeg_jpg.rf.7b2692f142d53c16ad477065f1f8ae6d.jpg', 'runs/detect/predict\\\\IMG_2496_jpeg_jpg.rf.3f91e7f18502074c89fa720a11926fab.jpg', 'runs/detect/predict\\\\IMG_2499_jpeg_jpg.rf.6cbab3719b9063388b5ab3ab826d7bd3.jpg', 'runs/detect/predict\\\\IMG_2514_jpeg_jpg.rf.6ccb3859d75fc5cfe053b1c1474254b2.jpg', 'runs/detect/predict\\\\IMG_2526_jpeg_jpg.rf.003e1d1d41bcd204df731b85cea68781.jpg', 'runs/detect/predict\\\\IMG_2532_jpeg_jpg.rf.2afeb76e5d9372dbbd6fbc53d5b75675.jpg', 'runs/detect/predict\\\\IMG_2544_jpeg_jpg.rf.03f51bb9e1c57fb9cd62f8cbdca14e90.jpg', 'runs/detect/predict\\\\IMG_2547_jpeg_jpg.rf.9406b6f1a9fad2292c4abd28f712baaf.jpg', 'runs/detect/predict\\\\IMG_2570_jpeg_jpg.rf.ed40900b657a5b23d92cb2d296ad2dbc.jpg', 'runs/detect/predict\\\\IMG_2574_jpeg_jpg.rf.ca0c3ad32384309a61e92d9a8bef87b9.jpg', 'runs/detect/predict\\\\IMG_2582_jpeg_jpg.rf.14f175066ce74b470bf31fa0c7a096cd.jpg', 'runs/detect/predict\\\\IMG_2588_jpeg_jpg.rf.cb9cea8f05891cfd55a3e93f2908201f.jpg', 'runs/detect/predict\\\\IMG_2630_jpeg_jpg.rf.310f0c986a72be46b80ce31c2d00e46d.jpg', 'runs/detect/predict\\\\IMG_2632_jpeg_jpg.rf.f44037edca490b16cbf06427e28ea946.jpg', 'runs/detect/predict\\\\IMG_2651_jpeg_jpg.rf.84b3930aa80b610cc97bf1c176763940.jpg', 'runs/detect/predict\\\\IMG_3129_jpeg_jpg.rf.90c472dcdf9b6713ec767cc97560ceca.jpg', 'runs/detect/predict\\\\IMG_3134_jpeg_jpg.rf.50750ca778773042a3c46a1d3e480132.jpg', 'runs/detect/predict\\\\IMG_3136_jpeg_jpg.rf.0d8fef73d4cc5e1c35ce424444d9e44b.jpg', 'runs/detect/predict\\\\IMG_3144_jpeg_jpg.rf.f29a36360174dc83ecef93275ed8f02e.jpg', 'runs/detect/predict\\\\IMG_3154_jpeg_jpg.rf.5f429a366c02d38bc9e2217f4508c3e0.jpg', 'runs/detect/predict\\\\IMG_3164_jpeg_jpg.rf.06637eee0b72df791aa729807ca45c4d.jpg', 'runs/detect/predict\\\\IMG_3173_jpeg_jpg.rf.6f05acaa0b22d410a5df3ea3286e227d.jpg', 'runs/detect/predict\\\\IMG_3175_jpeg_jpg.rf.686c7d36e049eea974a363e99bf0bee0.jpg', 'runs/detect/predict\\\\IMG_8331_jpg.rf.ec024bdf1e9de02b020b5e6505c1c58b.jpg', 'runs/detect/predict\\\\IMG_8343_jpg.rf.2d88000497d74d72aedc118b125a0c07.jpg', 'runs/detect/predict\\\\IMG_8395_jpg.rf.3bebece033961c9f665571644a14261f.jpg', 'runs/detect/predict\\\\IMG_8396_jpg.rf.106a6ced5c649ea81f0de8ecaa4ff3b8.jpg', 'runs/detect/predict\\\\IMG_8404_jpg.rf.265b89e862a375f6b89f781ea60ed480.jpg', 'runs/detect/predict\\\\IMG_8420_jpg.rf.31f1d5f1440e48ccf1dee988b565911b.jpg', 'runs/detect/predict\\\\IMG_8452_jpg.rf.6bbff701ab93e29553b3a70137fd4e66.jpg', 'runs/detect/predict\\\\IMG_8490_jpg.rf.1836542cf054c6d303a2dd05d4194d7f.jpg', 'runs/detect/predict\\\\IMG_8497_MOV-0_jpg.rf.5c59bd1bf7d8fd7a20999d51a79a12c0.jpg', 'runs/detect/predict\\\\IMG_8497_MOV-3_jpg.rf.fd813e14681c8b41e709a500748ce46a.jpg', 'runs/detect/predict\\\\IMG_8497_MOV-5_jpg.rf.3deffb208d656b7845661c5e33dd1afb.jpg', 'runs/detect/predict\\\\IMG_8513_MOV-0_jpg.rf.2a2f77e3f73630b60aaf6ad3ca4ed130.jpg', 'runs/detect/predict\\\\IMG_8515_jpg.rf.98a9daca7c5a5bad9872bd7fb2d4f198.jpg', 'runs/detect/predict\\\\IMG_8582_MOV-0_jpg.rf.aa8304d7a5112d63c8841d96160d42cd.jpg', 'runs/detect/predict\\\\IMG_8582_MOV-3_jpg.rf.c7dde0639837077f76428d70223368a4.jpg', 'runs/detect/predict\\\\IMG_8582_MOV-5_jpg.rf.9d7a26fbf145ce39ab0831b4e6bc1f1e.jpg', 'runs/detect/predict\\\\IMG_8590_MOV-2_jpg.rf.2136fdb5dcbcd58a1dc456bb3e5bf476.jpg', 'runs/detect/predict\\\\IMG_8590_MOV-5_jpg.rf.074e6d8acdd3fcad16d866c341b43769.jpg', 'runs/detect/predict\\\\IMG_8595_MOV-0_jpg.rf.312ab0b8b9fca18134aee88044f45a06.jpg', 'runs/detect/predict\\\\IMG_8599_MOV-3_jpg.rf.412ebb16ea80e964b4464c50e757df0e.jpg']\n"
     ]
    }
   ],
   "source": [
    "import glob\n",
    "\n",
    "detetced_image_list = glob.glob(('runs/detect/predict/*'))\n",
    "\n",
    "detected_image_nums = len(detetced_image_list)\n",
    "\n",
    "print(detected_image_nums)\n",
    "\n",
    "print(detetced_image_list)"
   ]
  },
  {
   "cell_type": "code",
   "execution_count": 13,
   "metadata": {
    "colab": {
     "base_uri": "https://localhost:8080/"
    },
    "id": "wYFPNzfMSOyt",
    "outputId": "d75a4ac9-6c59-451f-c15a-6eaa13e43526"
   },
   "outputs": [
    {
     "name": "stdout",
     "output_type": "stream",
     "text": [
      "detected_result dir is created !!!\n"
     ]
    }
   ],
   "source": [
    "import zipfile  # zipfile 모듈을 불러옵니다. 이 모듈은 ZIP 압축 파일을 생성하고 읽는 기능을 제공합니다.\n",
    "import os  # os 모듈을 불러옵니다. 이 모듈은 운영체제와 상호작용하기 위한 기능들을 제공합니다.\n",
    "\n",
    "# 'detected_result/'라는 이름의 디렉터리가 존재하는지 확인합니다.\n",
    "if not os.path.exists('detected_result/'):\n",
    "    os.mkdir('detected_result/')  # 존재하지 않으면, 해당 이름으로 새 디렉터리를 생성합니다.\n",
    "    print('detected_result dir is created !!!')  # 디렉터리 생성 성공 메시지를 출력합니다.\n",
    "\n",
    "# 'detected_images.zip'라는 이름의 ZIP 파일을 생성하기 위해 ZipFile 객체를 생성합니다.\n",
    "# 이때, 'w' 모드는 쓰기 모드를 의미하며, 해당 파일이 이미 존재한다면 덮어쓰게 됩니다.\n",
    "with zipfile.ZipFile('detected_result/detected_images.zip', 'w') as detected_images:\n",
    "\n",
    "    # detected_image_nums 변수에 저장된 숫자만큼 반복합니다.\n",
    "    # 이 변수는 압축하고자 하는 이미지 파일의 총 수를 나타냅니다.\n",
    "    for idx in range(detected_image_nums):\n",
    "        # detetced_image_list 리스트에서 이미지 파일의 경로를 순회하며 압축 파일에 추가합니다.\n",
    "        # 이 리스트는 압축하고자 하는 이미지 파일들의 경로를 담고 있습니다.\n",
    "        detected_images.write(detetced_image_list[idx])\n"
   ]
  },
  {
   "cell_type": "code",
   "execution_count": null,
   "metadata": {},
   "outputs": [],
   "source": []
  }
 ],
 "metadata": {
  "accelerator": "GPU",
  "colab": {
   "provenance": []
  },
  "kernelspec": {
   "display_name": "Python 3 (ipykernel)",
   "language": "python",
   "name": "python3"
  },
  "language_info": {
   "codemirror_mode": {
    "name": "ipython",
    "version": 3
   },
   "file_extension": ".py",
   "mimetype": "text/x-python",
   "name": "python",
   "nbconvert_exporter": "python",
   "pygments_lexer": "ipython3",
   "version": "3.12.1"
  }
 },
 "nbformat": 4,
 "nbformat_minor": 4
}
